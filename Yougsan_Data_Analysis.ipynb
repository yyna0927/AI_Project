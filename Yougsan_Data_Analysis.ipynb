{
  "nbformat": 4,
  "nbformat_minor": 0,
  "metadata": {
    "colab": {
      "provenance": []
    },
    "kernelspec": {
      "name": "python3",
      "display_name": "Python 3"
    },
    "language_info": {
      "name": "python"
    }
  },
  "cells": [
    {
      "cell_type": "markdown",
      "source": [
        "데이터: 서울시 우리마을가게 상권분석서비스(상권-추정매출)\n",
        "\n",
        "데이터 출처: https://data.seoul.go.kr/dataList/OA-15572/S/1/datasetView.do\n"
      ],
      "metadata": {
        "id": "-lu4NpHb-5RJ"
      }
    },
    {
      "cell_type": "code",
      "source": [
        "import csv\n",
        "import pandas as pd\n",
        "import numpy as np\n",
        "from matplotlib import rc\n",
        "import random as rnd\n",
        "import seaborn as sns\n",
        "import matplotlib.pyplot as plt\n",
        "%matplotlib inline"
      ],
      "metadata": {
        "id": "bION3GAlpRrj"
      },
      "execution_count": null,
      "outputs": []
    },
    {
      "cell_type": "code",
      "source": [
        "from google.colab import files\n",
        "uploaded = files.upload()"
      ],
      "metadata": {
        "colab": {
          "base_uri": "https://localhost:8080/",
          "height": 77
        },
        "id": "kBGhe2IkzzI1",
        "outputId": "ed189e11-939f-4aeb-c481-3b370dfe7b1c"
      },
      "execution_count": null,
      "outputs": [
        {
          "output_type": "display_data",
          "data": {
            "text/plain": [
              "<IPython.core.display.HTML object>"
            ],
            "text/html": [
              "\n",
              "     <input type=\"file\" id=\"files-4b191333-3d93-43b8-9691-7b636933dd13\" name=\"files[]\" multiple disabled\n",
              "        style=\"border:none\" />\n",
              "     <output id=\"result-4b191333-3d93-43b8-9691-7b636933dd13\">\n",
              "      Upload widget is only available when the cell has been executed in the\n",
              "      current browser session. Please rerun this cell to enable.\n",
              "      </output>\n",
              "      <script>// Copyright 2017 Google LLC\n",
              "//\n",
              "// Licensed under the Apache License, Version 2.0 (the \"License\");\n",
              "// you may not use this file except in compliance with the License.\n",
              "// You may obtain a copy of the License at\n",
              "//\n",
              "//      http://www.apache.org/licenses/LICENSE-2.0\n",
              "//\n",
              "// Unless required by applicable law or agreed to in writing, software\n",
              "// distributed under the License is distributed on an \"AS IS\" BASIS,\n",
              "// WITHOUT WARRANTIES OR CONDITIONS OF ANY KIND, either express or implied.\n",
              "// See the License for the specific language governing permissions and\n",
              "// limitations under the License.\n",
              "\n",
              "/**\n",
              " * @fileoverview Helpers for google.colab Python module.\n",
              " */\n",
              "(function(scope) {\n",
              "function span(text, styleAttributes = {}) {\n",
              "  const element = document.createElement('span');\n",
              "  element.textContent = text;\n",
              "  for (const key of Object.keys(styleAttributes)) {\n",
              "    element.style[key] = styleAttributes[key];\n",
              "  }\n",
              "  return element;\n",
              "}\n",
              "\n",
              "// Max number of bytes which will be uploaded at a time.\n",
              "const MAX_PAYLOAD_SIZE = 100 * 1024;\n",
              "\n",
              "function _uploadFiles(inputId, outputId) {\n",
              "  const steps = uploadFilesStep(inputId, outputId);\n",
              "  const outputElement = document.getElementById(outputId);\n",
              "  // Cache steps on the outputElement to make it available for the next call\n",
              "  // to uploadFilesContinue from Python.\n",
              "  outputElement.steps = steps;\n",
              "\n",
              "  return _uploadFilesContinue(outputId);\n",
              "}\n",
              "\n",
              "// This is roughly an async generator (not supported in the browser yet),\n",
              "// where there are multiple asynchronous steps and the Python side is going\n",
              "// to poll for completion of each step.\n",
              "// This uses a Promise to block the python side on completion of each step,\n",
              "// then passes the result of the previous step as the input to the next step.\n",
              "function _uploadFilesContinue(outputId) {\n",
              "  const outputElement = document.getElementById(outputId);\n",
              "  const steps = outputElement.steps;\n",
              "\n",
              "  const next = steps.next(outputElement.lastPromiseValue);\n",
              "  return Promise.resolve(next.value.promise).then((value) => {\n",
              "    // Cache the last promise value to make it available to the next\n",
              "    // step of the generator.\n",
              "    outputElement.lastPromiseValue = value;\n",
              "    return next.value.response;\n",
              "  });\n",
              "}\n",
              "\n",
              "/**\n",
              " * Generator function which is called between each async step of the upload\n",
              " * process.\n",
              " * @param {string} inputId Element ID of the input file picker element.\n",
              " * @param {string} outputId Element ID of the output display.\n",
              " * @return {!Iterable<!Object>} Iterable of next steps.\n",
              " */\n",
              "function* uploadFilesStep(inputId, outputId) {\n",
              "  const inputElement = document.getElementById(inputId);\n",
              "  inputElement.disabled = false;\n",
              "\n",
              "  const outputElement = document.getElementById(outputId);\n",
              "  outputElement.innerHTML = '';\n",
              "\n",
              "  const pickedPromise = new Promise((resolve) => {\n",
              "    inputElement.addEventListener('change', (e) => {\n",
              "      resolve(e.target.files);\n",
              "    });\n",
              "  });\n",
              "\n",
              "  const cancel = document.createElement('button');\n",
              "  inputElement.parentElement.appendChild(cancel);\n",
              "  cancel.textContent = 'Cancel upload';\n",
              "  const cancelPromise = new Promise((resolve) => {\n",
              "    cancel.onclick = () => {\n",
              "      resolve(null);\n",
              "    };\n",
              "  });\n",
              "\n",
              "  // Wait for the user to pick the files.\n",
              "  const files = yield {\n",
              "    promise: Promise.race([pickedPromise, cancelPromise]),\n",
              "    response: {\n",
              "      action: 'starting',\n",
              "    }\n",
              "  };\n",
              "\n",
              "  cancel.remove();\n",
              "\n",
              "  // Disable the input element since further picks are not allowed.\n",
              "  inputElement.disabled = true;\n",
              "\n",
              "  if (!files) {\n",
              "    return {\n",
              "      response: {\n",
              "        action: 'complete',\n",
              "      }\n",
              "    };\n",
              "  }\n",
              "\n",
              "  for (const file of files) {\n",
              "    const li = document.createElement('li');\n",
              "    li.append(span(file.name, {fontWeight: 'bold'}));\n",
              "    li.append(span(\n",
              "        `(${file.type || 'n/a'}) - ${file.size} bytes, ` +\n",
              "        `last modified: ${\n",
              "            file.lastModifiedDate ? file.lastModifiedDate.toLocaleDateString() :\n",
              "                                    'n/a'} - `));\n",
              "    const percent = span('0% done');\n",
              "    li.appendChild(percent);\n",
              "\n",
              "    outputElement.appendChild(li);\n",
              "\n",
              "    const fileDataPromise = new Promise((resolve) => {\n",
              "      const reader = new FileReader();\n",
              "      reader.onload = (e) => {\n",
              "        resolve(e.target.result);\n",
              "      };\n",
              "      reader.readAsArrayBuffer(file);\n",
              "    });\n",
              "    // Wait for the data to be ready.\n",
              "    let fileData = yield {\n",
              "      promise: fileDataPromise,\n",
              "      response: {\n",
              "        action: 'continue',\n",
              "      }\n",
              "    };\n",
              "\n",
              "    // Use a chunked sending to avoid message size limits. See b/62115660.\n",
              "    let position = 0;\n",
              "    do {\n",
              "      const length = Math.min(fileData.byteLength - position, MAX_PAYLOAD_SIZE);\n",
              "      const chunk = new Uint8Array(fileData, position, length);\n",
              "      position += length;\n",
              "\n",
              "      const base64 = btoa(String.fromCharCode.apply(null, chunk));\n",
              "      yield {\n",
              "        response: {\n",
              "          action: 'append',\n",
              "          file: file.name,\n",
              "          data: base64,\n",
              "        },\n",
              "      };\n",
              "\n",
              "      let percentDone = fileData.byteLength === 0 ?\n",
              "          100 :\n",
              "          Math.round((position / fileData.byteLength) * 100);\n",
              "      percent.textContent = `${percentDone}% done`;\n",
              "\n",
              "    } while (position < fileData.byteLength);\n",
              "  }\n",
              "\n",
              "  // All done.\n",
              "  yield {\n",
              "    response: {\n",
              "      action: 'complete',\n",
              "    }\n",
              "  };\n",
              "}\n",
              "\n",
              "scope.google = scope.google || {};\n",
              "scope.google.colab = scope.google.colab || {};\n",
              "scope.google.colab._files = {\n",
              "  _uploadFiles,\n",
              "  _uploadFilesContinue,\n",
              "};\n",
              "})(self);\n",
              "</script> "
            ]
          },
          "metadata": {}
        },
        {
          "output_type": "stream",
          "name": "stdout",
          "text": [
            "Saving 용산 19 _ 21.csv to 용산 19 _ 21 (5).csv\n"
          ]
        }
      ]
    },
    {
      "cell_type": "code",
      "source": [
        "import io\n",
        "import pandas as pd\n",
        "\n",
        "df1 = pd.read_csv(io.StringIO(uploaded['용산 19 _ 21.csv'].decode('CP949')))"
      ],
      "metadata": {
        "id": "8pitt1kfz3Pu"
      },
      "execution_count": null,
      "outputs": []
    },
    {
      "cell_type": "code",
      "source": [
        "df1"
      ],
      "metadata": {
        "id": "vBrXUXAtpR3S",
        "colab": {
          "base_uri": "https://localhost:8080/",
          "height": 867
        },
        "outputId": "9544ffbf-3608-446d-d52b-ec2c420765f0"
      },
      "execution_count": null,
      "outputs": [
        {
          "output_type": "execute_result",
          "data": {
            "text/plain": [
              "     기준_년_코드 기준_분기_코드 상권_구분_코드 상권_구분_코드_명    상권_코드    상권_코드_명 서비스_업종_코드  \\\n",
              "0       2019       a1        D       발달상권  2120041  신용산역(용산역)  CS100001   \n",
              "1       2019       a1        D       발달상권  2120041  신용산역(용산역)  CS100002   \n",
              "2       2019       a1        D       발달상권  2120041  신용산역(용산역)  CS100003   \n",
              "3       2019       a1        D       발달상권  2120041  신용산역(용산역)  CS100004   \n",
              "4       2019       a1        D       발달상권  2120041  신용산역(용산역)  CS100005   \n",
              "..       ...      ...      ...        ...      ...        ...       ...   \n",
              "588     2021       c4        D       발달상권  2120041  신용산역(용산역)  CS300024   \n",
              "589     2021       c4        D       발달상권  2120041  신용산역(용산역)  CS300028   \n",
              "590     2021       c4        D       발달상권  2120041  신용산역(용산역)  CS300031   \n",
              "591     2021       c4        D       발달상권  2120041  신용산역(용산역)  CS300032   \n",
              "592     2021       c4        D       발달상권  2120041  신용산역(용산역)  CS300043   \n",
              "\n",
              "    서비스_업종_코드_명    분기당_매출_금액  분기당_매출_건수  ...  시간대_건수~24_매출_건수  남성_매출_건수  \\\n",
              "0         한식음식점  15707468881     433770  ...            50304    212411   \n",
              "1         중식음식점    749017273      30411  ...              421     13807   \n",
              "2         일식음식점   1876932210      51139  ...             2963     22852   \n",
              "3         양식음식점   2761346168      72487  ...             3921     30583   \n",
              "4           제과점   1943483942     197651  ...             7368     78376   \n",
              "..          ...          ...        ...  ...              ...       ...   \n",
              "588     운동/경기용품    114214529        967  ...                0       565   \n",
              "589          화초    194945386       4277  ...                0      1989   \n",
              "590          가구   8598000000       9642  ...               85      3674   \n",
              "591        가전제품   6708126664      18262  ...              167      9171   \n",
              "592      전자상거래업     37373413         85  ...                0        25   \n",
              "\n",
              "     여성_매출_건수  연령대_10_매출_건수  연령대_20_매출_건수  연령대_30_매출_건수  연령대_40_매출_건수  \\\n",
              "0      143764          2500         81478        106394         85378   \n",
              "1       15002           765          8950          7570          6428   \n",
              "2       24119           851         16376         13341          8848   \n",
              "3       37535           630         22427         22512         13614   \n",
              "4      116664          3111         66558         61849         40101   \n",
              "..        ...           ...           ...           ...           ...   \n",
              "588       350             1           102            88           133   \n",
              "589      1696            12          1171          1282           518   \n",
              "590      5826             0           769          2217          1768   \n",
              "591      7687            74          3233          3863          3135   \n",
              "592        15             0            20             0            10   \n",
              "\n",
              "     연령대_50_매출_건수  연령대_60_이상_매출_건수  점포수  \n",
              "0           52449            27980  353  \n",
              "1            3612             1482    9  \n",
              "2            5271             2285   41  \n",
              "3            6488             2448   37  \n",
              "4           17003             6419   26  \n",
              "..            ...              ...  ...  \n",
              "588           269              320    6  \n",
              "589           467              236   16  \n",
              "590          2879             1867    6  \n",
              "591          3180             3374   28  \n",
              "592            10                0    6  \n",
              "\n",
              "[593 rows x 80 columns]"
            ],
            "text/html": [
              "\n",
              "  <div id=\"df-12bdd7dc-65ef-4782-88b2-0f1f84aca7f7\">\n",
              "    <div class=\"colab-df-container\">\n",
              "      <div>\n",
              "<style scoped>\n",
              "    .dataframe tbody tr th:only-of-type {\n",
              "        vertical-align: middle;\n",
              "    }\n",
              "\n",
              "    .dataframe tbody tr th {\n",
              "        vertical-align: top;\n",
              "    }\n",
              "\n",
              "    .dataframe thead th {\n",
              "        text-align: right;\n",
              "    }\n",
              "</style>\n",
              "<table border=\"1\" class=\"dataframe\">\n",
              "  <thead>\n",
              "    <tr style=\"text-align: right;\">\n",
              "      <th></th>\n",
              "      <th>기준_년_코드</th>\n",
              "      <th>기준_분기_코드</th>\n",
              "      <th>상권_구분_코드</th>\n",
              "      <th>상권_구분_코드_명</th>\n",
              "      <th>상권_코드</th>\n",
              "      <th>상권_코드_명</th>\n",
              "      <th>서비스_업종_코드</th>\n",
              "      <th>서비스_업종_코드_명</th>\n",
              "      <th>분기당_매출_금액</th>\n",
              "      <th>분기당_매출_건수</th>\n",
              "      <th>...</th>\n",
              "      <th>시간대_건수~24_매출_건수</th>\n",
              "      <th>남성_매출_건수</th>\n",
              "      <th>여성_매출_건수</th>\n",
              "      <th>연령대_10_매출_건수</th>\n",
              "      <th>연령대_20_매출_건수</th>\n",
              "      <th>연령대_30_매출_건수</th>\n",
              "      <th>연령대_40_매출_건수</th>\n",
              "      <th>연령대_50_매출_건수</th>\n",
              "      <th>연령대_60_이상_매출_건수</th>\n",
              "      <th>점포수</th>\n",
              "    </tr>\n",
              "  </thead>\n",
              "  <tbody>\n",
              "    <tr>\n",
              "      <th>0</th>\n",
              "      <td>2019</td>\n",
              "      <td>a1</td>\n",
              "      <td>D</td>\n",
              "      <td>발달상권</td>\n",
              "      <td>2120041</td>\n",
              "      <td>신용산역(용산역)</td>\n",
              "      <td>CS100001</td>\n",
              "      <td>한식음식점</td>\n",
              "      <td>15707468881</td>\n",
              "      <td>433770</td>\n",
              "      <td>...</td>\n",
              "      <td>50304</td>\n",
              "      <td>212411</td>\n",
              "      <td>143764</td>\n",
              "      <td>2500</td>\n",
              "      <td>81478</td>\n",
              "      <td>106394</td>\n",
              "      <td>85378</td>\n",
              "      <td>52449</td>\n",
              "      <td>27980</td>\n",
              "      <td>353</td>\n",
              "    </tr>\n",
              "    <tr>\n",
              "      <th>1</th>\n",
              "      <td>2019</td>\n",
              "      <td>a1</td>\n",
              "      <td>D</td>\n",
              "      <td>발달상권</td>\n",
              "      <td>2120041</td>\n",
              "      <td>신용산역(용산역)</td>\n",
              "      <td>CS100002</td>\n",
              "      <td>중식음식점</td>\n",
              "      <td>749017273</td>\n",
              "      <td>30411</td>\n",
              "      <td>...</td>\n",
              "      <td>421</td>\n",
              "      <td>13807</td>\n",
              "      <td>15002</td>\n",
              "      <td>765</td>\n",
              "      <td>8950</td>\n",
              "      <td>7570</td>\n",
              "      <td>6428</td>\n",
              "      <td>3612</td>\n",
              "      <td>1482</td>\n",
              "      <td>9</td>\n",
              "    </tr>\n",
              "    <tr>\n",
              "      <th>2</th>\n",
              "      <td>2019</td>\n",
              "      <td>a1</td>\n",
              "      <td>D</td>\n",
              "      <td>발달상권</td>\n",
              "      <td>2120041</td>\n",
              "      <td>신용산역(용산역)</td>\n",
              "      <td>CS100003</td>\n",
              "      <td>일식음식점</td>\n",
              "      <td>1876932210</td>\n",
              "      <td>51139</td>\n",
              "      <td>...</td>\n",
              "      <td>2963</td>\n",
              "      <td>22852</td>\n",
              "      <td>24119</td>\n",
              "      <td>851</td>\n",
              "      <td>16376</td>\n",
              "      <td>13341</td>\n",
              "      <td>8848</td>\n",
              "      <td>5271</td>\n",
              "      <td>2285</td>\n",
              "      <td>41</td>\n",
              "    </tr>\n",
              "    <tr>\n",
              "      <th>3</th>\n",
              "      <td>2019</td>\n",
              "      <td>a1</td>\n",
              "      <td>D</td>\n",
              "      <td>발달상권</td>\n",
              "      <td>2120041</td>\n",
              "      <td>신용산역(용산역)</td>\n",
              "      <td>CS100004</td>\n",
              "      <td>양식음식점</td>\n",
              "      <td>2761346168</td>\n",
              "      <td>72487</td>\n",
              "      <td>...</td>\n",
              "      <td>3921</td>\n",
              "      <td>30583</td>\n",
              "      <td>37535</td>\n",
              "      <td>630</td>\n",
              "      <td>22427</td>\n",
              "      <td>22512</td>\n",
              "      <td>13614</td>\n",
              "      <td>6488</td>\n",
              "      <td>2448</td>\n",
              "      <td>37</td>\n",
              "    </tr>\n",
              "    <tr>\n",
              "      <th>4</th>\n",
              "      <td>2019</td>\n",
              "      <td>a1</td>\n",
              "      <td>D</td>\n",
              "      <td>발달상권</td>\n",
              "      <td>2120041</td>\n",
              "      <td>신용산역(용산역)</td>\n",
              "      <td>CS100005</td>\n",
              "      <td>제과점</td>\n",
              "      <td>1943483942</td>\n",
              "      <td>197651</td>\n",
              "      <td>...</td>\n",
              "      <td>7368</td>\n",
              "      <td>78376</td>\n",
              "      <td>116664</td>\n",
              "      <td>3111</td>\n",
              "      <td>66558</td>\n",
              "      <td>61849</td>\n",
              "      <td>40101</td>\n",
              "      <td>17003</td>\n",
              "      <td>6419</td>\n",
              "      <td>26</td>\n",
              "    </tr>\n",
              "    <tr>\n",
              "      <th>...</th>\n",
              "      <td>...</td>\n",
              "      <td>...</td>\n",
              "      <td>...</td>\n",
              "      <td>...</td>\n",
              "      <td>...</td>\n",
              "      <td>...</td>\n",
              "      <td>...</td>\n",
              "      <td>...</td>\n",
              "      <td>...</td>\n",
              "      <td>...</td>\n",
              "      <td>...</td>\n",
              "      <td>...</td>\n",
              "      <td>...</td>\n",
              "      <td>...</td>\n",
              "      <td>...</td>\n",
              "      <td>...</td>\n",
              "      <td>...</td>\n",
              "      <td>...</td>\n",
              "      <td>...</td>\n",
              "      <td>...</td>\n",
              "      <td>...</td>\n",
              "    </tr>\n",
              "    <tr>\n",
              "      <th>588</th>\n",
              "      <td>2021</td>\n",
              "      <td>c4</td>\n",
              "      <td>D</td>\n",
              "      <td>발달상권</td>\n",
              "      <td>2120041</td>\n",
              "      <td>신용산역(용산역)</td>\n",
              "      <td>CS300024</td>\n",
              "      <td>운동/경기용품</td>\n",
              "      <td>114214529</td>\n",
              "      <td>967</td>\n",
              "      <td>...</td>\n",
              "      <td>0</td>\n",
              "      <td>565</td>\n",
              "      <td>350</td>\n",
              "      <td>1</td>\n",
              "      <td>102</td>\n",
              "      <td>88</td>\n",
              "      <td>133</td>\n",
              "      <td>269</td>\n",
              "      <td>320</td>\n",
              "      <td>6</td>\n",
              "    </tr>\n",
              "    <tr>\n",
              "      <th>589</th>\n",
              "      <td>2021</td>\n",
              "      <td>c4</td>\n",
              "      <td>D</td>\n",
              "      <td>발달상권</td>\n",
              "      <td>2120041</td>\n",
              "      <td>신용산역(용산역)</td>\n",
              "      <td>CS300028</td>\n",
              "      <td>화초</td>\n",
              "      <td>194945386</td>\n",
              "      <td>4277</td>\n",
              "      <td>...</td>\n",
              "      <td>0</td>\n",
              "      <td>1989</td>\n",
              "      <td>1696</td>\n",
              "      <td>12</td>\n",
              "      <td>1171</td>\n",
              "      <td>1282</td>\n",
              "      <td>518</td>\n",
              "      <td>467</td>\n",
              "      <td>236</td>\n",
              "      <td>16</td>\n",
              "    </tr>\n",
              "    <tr>\n",
              "      <th>590</th>\n",
              "      <td>2021</td>\n",
              "      <td>c4</td>\n",
              "      <td>D</td>\n",
              "      <td>발달상권</td>\n",
              "      <td>2120041</td>\n",
              "      <td>신용산역(용산역)</td>\n",
              "      <td>CS300031</td>\n",
              "      <td>가구</td>\n",
              "      <td>8598000000</td>\n",
              "      <td>9642</td>\n",
              "      <td>...</td>\n",
              "      <td>85</td>\n",
              "      <td>3674</td>\n",
              "      <td>5826</td>\n",
              "      <td>0</td>\n",
              "      <td>769</td>\n",
              "      <td>2217</td>\n",
              "      <td>1768</td>\n",
              "      <td>2879</td>\n",
              "      <td>1867</td>\n",
              "      <td>6</td>\n",
              "    </tr>\n",
              "    <tr>\n",
              "      <th>591</th>\n",
              "      <td>2021</td>\n",
              "      <td>c4</td>\n",
              "      <td>D</td>\n",
              "      <td>발달상권</td>\n",
              "      <td>2120041</td>\n",
              "      <td>신용산역(용산역)</td>\n",
              "      <td>CS300032</td>\n",
              "      <td>가전제품</td>\n",
              "      <td>6708126664</td>\n",
              "      <td>18262</td>\n",
              "      <td>...</td>\n",
              "      <td>167</td>\n",
              "      <td>9171</td>\n",
              "      <td>7687</td>\n",
              "      <td>74</td>\n",
              "      <td>3233</td>\n",
              "      <td>3863</td>\n",
              "      <td>3135</td>\n",
              "      <td>3180</td>\n",
              "      <td>3374</td>\n",
              "      <td>28</td>\n",
              "    </tr>\n",
              "    <tr>\n",
              "      <th>592</th>\n",
              "      <td>2021</td>\n",
              "      <td>c4</td>\n",
              "      <td>D</td>\n",
              "      <td>발달상권</td>\n",
              "      <td>2120041</td>\n",
              "      <td>신용산역(용산역)</td>\n",
              "      <td>CS300043</td>\n",
              "      <td>전자상거래업</td>\n",
              "      <td>37373413</td>\n",
              "      <td>85</td>\n",
              "      <td>...</td>\n",
              "      <td>0</td>\n",
              "      <td>25</td>\n",
              "      <td>15</td>\n",
              "      <td>0</td>\n",
              "      <td>20</td>\n",
              "      <td>0</td>\n",
              "      <td>10</td>\n",
              "      <td>10</td>\n",
              "      <td>0</td>\n",
              "      <td>6</td>\n",
              "    </tr>\n",
              "  </tbody>\n",
              "</table>\n",
              "<p>593 rows × 80 columns</p>\n",
              "</div>\n",
              "      <button class=\"colab-df-convert\" onclick=\"convertToInteractive('df-12bdd7dc-65ef-4782-88b2-0f1f84aca7f7')\"\n",
              "              title=\"Convert this dataframe to an interactive table.\"\n",
              "              style=\"display:none;\">\n",
              "        \n",
              "  <svg xmlns=\"http://www.w3.org/2000/svg\" height=\"24px\"viewBox=\"0 0 24 24\"\n",
              "       width=\"24px\">\n",
              "    <path d=\"M0 0h24v24H0V0z\" fill=\"none\"/>\n",
              "    <path d=\"M18.56 5.44l.94 2.06.94-2.06 2.06-.94-2.06-.94-.94-2.06-.94 2.06-2.06.94zm-11 1L8.5 8.5l.94-2.06 2.06-.94-2.06-.94L8.5 2.5l-.94 2.06-2.06.94zm10 10l.94 2.06.94-2.06 2.06-.94-2.06-.94-.94-2.06-.94 2.06-2.06.94z\"/><path d=\"M17.41 7.96l-1.37-1.37c-.4-.4-.92-.59-1.43-.59-.52 0-1.04.2-1.43.59L10.3 9.45l-7.72 7.72c-.78.78-.78 2.05 0 2.83L4 21.41c.39.39.9.59 1.41.59.51 0 1.02-.2 1.41-.59l7.78-7.78 2.81-2.81c.8-.78.8-2.07 0-2.86zM5.41 20L4 18.59l7.72-7.72 1.47 1.35L5.41 20z\"/>\n",
              "  </svg>\n",
              "      </button>\n",
              "      \n",
              "  <style>\n",
              "    .colab-df-container {\n",
              "      display:flex;\n",
              "      flex-wrap:wrap;\n",
              "      gap: 12px;\n",
              "    }\n",
              "\n",
              "    .colab-df-convert {\n",
              "      background-color: #E8F0FE;\n",
              "      border: none;\n",
              "      border-radius: 50%;\n",
              "      cursor: pointer;\n",
              "      display: none;\n",
              "      fill: #1967D2;\n",
              "      height: 32px;\n",
              "      padding: 0 0 0 0;\n",
              "      width: 32px;\n",
              "    }\n",
              "\n",
              "    .colab-df-convert:hover {\n",
              "      background-color: #E2EBFA;\n",
              "      box-shadow: 0px 1px 2px rgba(60, 64, 67, 0.3), 0px 1px 3px 1px rgba(60, 64, 67, 0.15);\n",
              "      fill: #174EA6;\n",
              "    }\n",
              "\n",
              "    [theme=dark] .colab-df-convert {\n",
              "      background-color: #3B4455;\n",
              "      fill: #D2E3FC;\n",
              "    }\n",
              "\n",
              "    [theme=dark] .colab-df-convert:hover {\n",
              "      background-color: #434B5C;\n",
              "      box-shadow: 0px 1px 3px 1px rgba(0, 0, 0, 0.15);\n",
              "      filter: drop-shadow(0px 1px 2px rgba(0, 0, 0, 0.3));\n",
              "      fill: #FFFFFF;\n",
              "    }\n",
              "  </style>\n",
              "\n",
              "      <script>\n",
              "        const buttonEl =\n",
              "          document.querySelector('#df-12bdd7dc-65ef-4782-88b2-0f1f84aca7f7 button.colab-df-convert');\n",
              "        buttonEl.style.display =\n",
              "          google.colab.kernel.accessAllowed ? 'block' : 'none';\n",
              "\n",
              "        async function convertToInteractive(key) {\n",
              "          const element = document.querySelector('#df-12bdd7dc-65ef-4782-88b2-0f1f84aca7f7');\n",
              "          const dataTable =\n",
              "            await google.colab.kernel.invokeFunction('convertToInteractive',\n",
              "                                                     [key], {});\n",
              "          if (!dataTable) return;\n",
              "\n",
              "          const docLinkHtml = 'Like what you see? Visit the ' +\n",
              "            '<a target=\"_blank\" href=https://colab.research.google.com/notebooks/data_table.ipynb>data table notebook</a>'\n",
              "            + ' to learn more about interactive tables.';\n",
              "          element.innerHTML = '';\n",
              "          dataTable['output_type'] = 'display_data';\n",
              "          await google.colab.output.renderOutput(dataTable, element);\n",
              "          const docLink = document.createElement('div');\n",
              "          docLink.innerHTML = docLinkHtml;\n",
              "          element.appendChild(docLink);\n",
              "        }\n",
              "      </script>\n",
              "    </div>\n",
              "  </div>\n",
              "  "
            ]
          },
          "metadata": {},
          "execution_count": 89
        }
      ]
    },
    {
      "cell_type": "markdown",
      "source": [],
      "metadata": {
        "id": "EWnIsrnrq8jL"
      }
    },
    {
      "cell_type": "markdown",
      "source": [
        "<h1>한식데이터"
      ],
      "metadata": {
        "id": "4fb2x-0sq8p7"
      }
    },
    {
      "cell_type": "code",
      "source": [
        "c1 = df1.loc [(df1['서비스_업종_코드_명'] == '한식음식점')]\n",
        "c1"
      ],
      "metadata": {
        "id": "zLgSm4-XrHqY",
        "colab": {
          "base_uri": "https://localhost:8080/",
          "height": 1000
        },
        "outputId": "49642799-2804-4eac-e6c6-93b3607d622c"
      },
      "execution_count": null,
      "outputs": [
        {
          "output_type": "execute_result",
          "data": {
            "text/plain": [
              "     기준_년_코드 기준_분기_코드 상권_구분_코드 상권_구분_코드_명    상권_코드    상권_코드_명 서비스_업종_코드  \\\n",
              "0       2019       a1        D       발달상권  2120041  신용산역(용산역)  CS100001   \n",
              "49      2019       a2        D       발달상권  2120041  신용산역(용산역)  CS100001   \n",
              "97      2019       a3        D       발달상권  2120041  신용산역(용산역)  CS100001   \n",
              "145     2019       a3        D       발달상권  2120041  신용산역(용산역)  CS100001   \n",
              "193     2019       a4        D       발달상권  2120041  신용산역(용산역)  CS100001   \n",
              "240     2020       b1        D       발달상권  2120041  신용산역(용산역)  CS100001   \n",
              "287     2020       b2        D       발달상권  2120041  신용산역(용산역)  CS100001   \n",
              "332     2020       b3        D       발달상권  2120041  신용산역(용산역)  CS100001   \n",
              "377     2020       b4        D       발달상권  2120041  신용산역(용산역)  CS100001   \n",
              "421     2021       c1        D       발달상권  2120041  신용산역(용산역)  CS100001   \n",
              "465     2021       c2        D       발달상권  2120041  신용산역(용산역)  CS100001   \n",
              "509     2021       c3        D       발달상권  2120041  신용산역(용산역)  CS100001   \n",
              "552     2021       c4        D       발달상권  2120041  신용산역(용산역)  CS100001   \n",
              "\n",
              "    서비스_업종_코드_명    분기당_매출_금액  분기당_매출_건수  ...  시간대_건수~24_매출_건수  남성_매출_건수  \\\n",
              "0         한식음식점  15707468881     433770  ...            50304    212411   \n",
              "49        한식음식점  14232201634     416773  ...            43759    203625   \n",
              "97        한식음식점  16519411923     474335  ...            47468    229452   \n",
              "145       한식음식점  16519411923     474335  ...            47468    229452   \n",
              "193       한식음식점  18203842735     469631  ...            53225    232382   \n",
              "240       한식음식점  13847227216     367379  ...            41124    183927   \n",
              "287       한식음식점  12718648530     330198  ...            38242    166971   \n",
              "332       한식음식점  12498637977     318213  ...            33618    157523   \n",
              "377       한식음식점  12090727100     287092  ...            25222    138360   \n",
              "421       한식음식점  10755833595     252771  ...            18162    122480   \n",
              "465       한식음식점  12768869340     301377  ...            31609    146018   \n",
              "509       한식음식점   9996933622     260112  ...            17884    126759   \n",
              "552       한식음식점  15589653900     320393  ...            36191    154686   \n",
              "\n",
              "     여성_매출_건수  연령대_10_매출_건수  연령대_20_매출_건수  연령대_30_매출_건수  연령대_40_매출_건수  \\\n",
              "0      143764          2500         81478        106394         85378   \n",
              "49     137470          2667         80815        100719         77953   \n",
              "97     158866          3626         93731        109996         89353   \n",
              "145    158866          3626         93731        109996         89353   \n",
              "193    151544          3303         94301        110977         88373   \n",
              "240    110061          1401         69402         86438         68518   \n",
              "287     93810          1016         56501         77812         62571   \n",
              "332     91145          1431         57090         73064         57328   \n",
              "377     78854          1174         50244         63494         50510   \n",
              "421     67160           807         40989         59211         42710   \n",
              "465     86222           921         52238         73242         49953   \n",
              "509     75553           851         47838         59767         42737   \n",
              "552     92640           987         63470         74460         49490   \n",
              "\n",
              "     연령대_50_매출_건수  연령대_60_이상_매출_건수  점포수  \n",
              "0           52449            27980  353  \n",
              "49          51574            27364  324  \n",
              "97          60270            31343  360  \n",
              "145         60270            31343  360  \n",
              "193         58212            28762  370  \n",
              "240         47000            21227  367  \n",
              "287         43514            19364  339  \n",
              "332         40358            19397  331  \n",
              "377         34061            17731  302  \n",
              "421         29711            16211  286  \n",
              "465         35754            20118  282  \n",
              "509         31718            19388  287  \n",
              "552         38243            20665  306  \n",
              "\n",
              "[13 rows x 80 columns]"
            ],
            "text/html": [
              "\n",
              "  <div id=\"df-55e0d3fd-797d-47d1-a038-4da49f160233\">\n",
              "    <div class=\"colab-df-container\">\n",
              "      <div>\n",
              "<style scoped>\n",
              "    .dataframe tbody tr th:only-of-type {\n",
              "        vertical-align: middle;\n",
              "    }\n",
              "\n",
              "    .dataframe tbody tr th {\n",
              "        vertical-align: top;\n",
              "    }\n",
              "\n",
              "    .dataframe thead th {\n",
              "        text-align: right;\n",
              "    }\n",
              "</style>\n",
              "<table border=\"1\" class=\"dataframe\">\n",
              "  <thead>\n",
              "    <tr style=\"text-align: right;\">\n",
              "      <th></th>\n",
              "      <th>기준_년_코드</th>\n",
              "      <th>기준_분기_코드</th>\n",
              "      <th>상권_구분_코드</th>\n",
              "      <th>상권_구분_코드_명</th>\n",
              "      <th>상권_코드</th>\n",
              "      <th>상권_코드_명</th>\n",
              "      <th>서비스_업종_코드</th>\n",
              "      <th>서비스_업종_코드_명</th>\n",
              "      <th>분기당_매출_금액</th>\n",
              "      <th>분기당_매출_건수</th>\n",
              "      <th>...</th>\n",
              "      <th>시간대_건수~24_매출_건수</th>\n",
              "      <th>남성_매출_건수</th>\n",
              "      <th>여성_매출_건수</th>\n",
              "      <th>연령대_10_매출_건수</th>\n",
              "      <th>연령대_20_매출_건수</th>\n",
              "      <th>연령대_30_매출_건수</th>\n",
              "      <th>연령대_40_매출_건수</th>\n",
              "      <th>연령대_50_매출_건수</th>\n",
              "      <th>연령대_60_이상_매출_건수</th>\n",
              "      <th>점포수</th>\n",
              "    </tr>\n",
              "  </thead>\n",
              "  <tbody>\n",
              "    <tr>\n",
              "      <th>0</th>\n",
              "      <td>2019</td>\n",
              "      <td>a1</td>\n",
              "      <td>D</td>\n",
              "      <td>발달상권</td>\n",
              "      <td>2120041</td>\n",
              "      <td>신용산역(용산역)</td>\n",
              "      <td>CS100001</td>\n",
              "      <td>한식음식점</td>\n",
              "      <td>15707468881</td>\n",
              "      <td>433770</td>\n",
              "      <td>...</td>\n",
              "      <td>50304</td>\n",
              "      <td>212411</td>\n",
              "      <td>143764</td>\n",
              "      <td>2500</td>\n",
              "      <td>81478</td>\n",
              "      <td>106394</td>\n",
              "      <td>85378</td>\n",
              "      <td>52449</td>\n",
              "      <td>27980</td>\n",
              "      <td>353</td>\n",
              "    </tr>\n",
              "    <tr>\n",
              "      <th>49</th>\n",
              "      <td>2019</td>\n",
              "      <td>a2</td>\n",
              "      <td>D</td>\n",
              "      <td>발달상권</td>\n",
              "      <td>2120041</td>\n",
              "      <td>신용산역(용산역)</td>\n",
              "      <td>CS100001</td>\n",
              "      <td>한식음식점</td>\n",
              "      <td>14232201634</td>\n",
              "      <td>416773</td>\n",
              "      <td>...</td>\n",
              "      <td>43759</td>\n",
              "      <td>203625</td>\n",
              "      <td>137470</td>\n",
              "      <td>2667</td>\n",
              "      <td>80815</td>\n",
              "      <td>100719</td>\n",
              "      <td>77953</td>\n",
              "      <td>51574</td>\n",
              "      <td>27364</td>\n",
              "      <td>324</td>\n",
              "    </tr>\n",
              "    <tr>\n",
              "      <th>97</th>\n",
              "      <td>2019</td>\n",
              "      <td>a3</td>\n",
              "      <td>D</td>\n",
              "      <td>발달상권</td>\n",
              "      <td>2120041</td>\n",
              "      <td>신용산역(용산역)</td>\n",
              "      <td>CS100001</td>\n",
              "      <td>한식음식점</td>\n",
              "      <td>16519411923</td>\n",
              "      <td>474335</td>\n",
              "      <td>...</td>\n",
              "      <td>47468</td>\n",
              "      <td>229452</td>\n",
              "      <td>158866</td>\n",
              "      <td>3626</td>\n",
              "      <td>93731</td>\n",
              "      <td>109996</td>\n",
              "      <td>89353</td>\n",
              "      <td>60270</td>\n",
              "      <td>31343</td>\n",
              "      <td>360</td>\n",
              "    </tr>\n",
              "    <tr>\n",
              "      <th>145</th>\n",
              "      <td>2019</td>\n",
              "      <td>a3</td>\n",
              "      <td>D</td>\n",
              "      <td>발달상권</td>\n",
              "      <td>2120041</td>\n",
              "      <td>신용산역(용산역)</td>\n",
              "      <td>CS100001</td>\n",
              "      <td>한식음식점</td>\n",
              "      <td>16519411923</td>\n",
              "      <td>474335</td>\n",
              "      <td>...</td>\n",
              "      <td>47468</td>\n",
              "      <td>229452</td>\n",
              "      <td>158866</td>\n",
              "      <td>3626</td>\n",
              "      <td>93731</td>\n",
              "      <td>109996</td>\n",
              "      <td>89353</td>\n",
              "      <td>60270</td>\n",
              "      <td>31343</td>\n",
              "      <td>360</td>\n",
              "    </tr>\n",
              "    <tr>\n",
              "      <th>193</th>\n",
              "      <td>2019</td>\n",
              "      <td>a4</td>\n",
              "      <td>D</td>\n",
              "      <td>발달상권</td>\n",
              "      <td>2120041</td>\n",
              "      <td>신용산역(용산역)</td>\n",
              "      <td>CS100001</td>\n",
              "      <td>한식음식점</td>\n",
              "      <td>18203842735</td>\n",
              "      <td>469631</td>\n",
              "      <td>...</td>\n",
              "      <td>53225</td>\n",
              "      <td>232382</td>\n",
              "      <td>151544</td>\n",
              "      <td>3303</td>\n",
              "      <td>94301</td>\n",
              "      <td>110977</td>\n",
              "      <td>88373</td>\n",
              "      <td>58212</td>\n",
              "      <td>28762</td>\n",
              "      <td>370</td>\n",
              "    </tr>\n",
              "    <tr>\n",
              "      <th>240</th>\n",
              "      <td>2020</td>\n",
              "      <td>b1</td>\n",
              "      <td>D</td>\n",
              "      <td>발달상권</td>\n",
              "      <td>2120041</td>\n",
              "      <td>신용산역(용산역)</td>\n",
              "      <td>CS100001</td>\n",
              "      <td>한식음식점</td>\n",
              "      <td>13847227216</td>\n",
              "      <td>367379</td>\n",
              "      <td>...</td>\n",
              "      <td>41124</td>\n",
              "      <td>183927</td>\n",
              "      <td>110061</td>\n",
              "      <td>1401</td>\n",
              "      <td>69402</td>\n",
              "      <td>86438</td>\n",
              "      <td>68518</td>\n",
              "      <td>47000</td>\n",
              "      <td>21227</td>\n",
              "      <td>367</td>\n",
              "    </tr>\n",
              "    <tr>\n",
              "      <th>287</th>\n",
              "      <td>2020</td>\n",
              "      <td>b2</td>\n",
              "      <td>D</td>\n",
              "      <td>발달상권</td>\n",
              "      <td>2120041</td>\n",
              "      <td>신용산역(용산역)</td>\n",
              "      <td>CS100001</td>\n",
              "      <td>한식음식점</td>\n",
              "      <td>12718648530</td>\n",
              "      <td>330198</td>\n",
              "      <td>...</td>\n",
              "      <td>38242</td>\n",
              "      <td>166971</td>\n",
              "      <td>93810</td>\n",
              "      <td>1016</td>\n",
              "      <td>56501</td>\n",
              "      <td>77812</td>\n",
              "      <td>62571</td>\n",
              "      <td>43514</td>\n",
              "      <td>19364</td>\n",
              "      <td>339</td>\n",
              "    </tr>\n",
              "    <tr>\n",
              "      <th>332</th>\n",
              "      <td>2020</td>\n",
              "      <td>b3</td>\n",
              "      <td>D</td>\n",
              "      <td>발달상권</td>\n",
              "      <td>2120041</td>\n",
              "      <td>신용산역(용산역)</td>\n",
              "      <td>CS100001</td>\n",
              "      <td>한식음식점</td>\n",
              "      <td>12498637977</td>\n",
              "      <td>318213</td>\n",
              "      <td>...</td>\n",
              "      <td>33618</td>\n",
              "      <td>157523</td>\n",
              "      <td>91145</td>\n",
              "      <td>1431</td>\n",
              "      <td>57090</td>\n",
              "      <td>73064</td>\n",
              "      <td>57328</td>\n",
              "      <td>40358</td>\n",
              "      <td>19397</td>\n",
              "      <td>331</td>\n",
              "    </tr>\n",
              "    <tr>\n",
              "      <th>377</th>\n",
              "      <td>2020</td>\n",
              "      <td>b4</td>\n",
              "      <td>D</td>\n",
              "      <td>발달상권</td>\n",
              "      <td>2120041</td>\n",
              "      <td>신용산역(용산역)</td>\n",
              "      <td>CS100001</td>\n",
              "      <td>한식음식점</td>\n",
              "      <td>12090727100</td>\n",
              "      <td>287092</td>\n",
              "      <td>...</td>\n",
              "      <td>25222</td>\n",
              "      <td>138360</td>\n",
              "      <td>78854</td>\n",
              "      <td>1174</td>\n",
              "      <td>50244</td>\n",
              "      <td>63494</td>\n",
              "      <td>50510</td>\n",
              "      <td>34061</td>\n",
              "      <td>17731</td>\n",
              "      <td>302</td>\n",
              "    </tr>\n",
              "    <tr>\n",
              "      <th>421</th>\n",
              "      <td>2021</td>\n",
              "      <td>c1</td>\n",
              "      <td>D</td>\n",
              "      <td>발달상권</td>\n",
              "      <td>2120041</td>\n",
              "      <td>신용산역(용산역)</td>\n",
              "      <td>CS100001</td>\n",
              "      <td>한식음식점</td>\n",
              "      <td>10755833595</td>\n",
              "      <td>252771</td>\n",
              "      <td>...</td>\n",
              "      <td>18162</td>\n",
              "      <td>122480</td>\n",
              "      <td>67160</td>\n",
              "      <td>807</td>\n",
              "      <td>40989</td>\n",
              "      <td>59211</td>\n",
              "      <td>42710</td>\n",
              "      <td>29711</td>\n",
              "      <td>16211</td>\n",
              "      <td>286</td>\n",
              "    </tr>\n",
              "    <tr>\n",
              "      <th>465</th>\n",
              "      <td>2021</td>\n",
              "      <td>c2</td>\n",
              "      <td>D</td>\n",
              "      <td>발달상권</td>\n",
              "      <td>2120041</td>\n",
              "      <td>신용산역(용산역)</td>\n",
              "      <td>CS100001</td>\n",
              "      <td>한식음식점</td>\n",
              "      <td>12768869340</td>\n",
              "      <td>301377</td>\n",
              "      <td>...</td>\n",
              "      <td>31609</td>\n",
              "      <td>146018</td>\n",
              "      <td>86222</td>\n",
              "      <td>921</td>\n",
              "      <td>52238</td>\n",
              "      <td>73242</td>\n",
              "      <td>49953</td>\n",
              "      <td>35754</td>\n",
              "      <td>20118</td>\n",
              "      <td>282</td>\n",
              "    </tr>\n",
              "    <tr>\n",
              "      <th>509</th>\n",
              "      <td>2021</td>\n",
              "      <td>c3</td>\n",
              "      <td>D</td>\n",
              "      <td>발달상권</td>\n",
              "      <td>2120041</td>\n",
              "      <td>신용산역(용산역)</td>\n",
              "      <td>CS100001</td>\n",
              "      <td>한식음식점</td>\n",
              "      <td>9996933622</td>\n",
              "      <td>260112</td>\n",
              "      <td>...</td>\n",
              "      <td>17884</td>\n",
              "      <td>126759</td>\n",
              "      <td>75553</td>\n",
              "      <td>851</td>\n",
              "      <td>47838</td>\n",
              "      <td>59767</td>\n",
              "      <td>42737</td>\n",
              "      <td>31718</td>\n",
              "      <td>19388</td>\n",
              "      <td>287</td>\n",
              "    </tr>\n",
              "    <tr>\n",
              "      <th>552</th>\n",
              "      <td>2021</td>\n",
              "      <td>c4</td>\n",
              "      <td>D</td>\n",
              "      <td>발달상권</td>\n",
              "      <td>2120041</td>\n",
              "      <td>신용산역(용산역)</td>\n",
              "      <td>CS100001</td>\n",
              "      <td>한식음식점</td>\n",
              "      <td>15589653900</td>\n",
              "      <td>320393</td>\n",
              "      <td>...</td>\n",
              "      <td>36191</td>\n",
              "      <td>154686</td>\n",
              "      <td>92640</td>\n",
              "      <td>987</td>\n",
              "      <td>63470</td>\n",
              "      <td>74460</td>\n",
              "      <td>49490</td>\n",
              "      <td>38243</td>\n",
              "      <td>20665</td>\n",
              "      <td>306</td>\n",
              "    </tr>\n",
              "  </tbody>\n",
              "</table>\n",
              "<p>13 rows × 80 columns</p>\n",
              "</div>\n",
              "      <button class=\"colab-df-convert\" onclick=\"convertToInteractive('df-55e0d3fd-797d-47d1-a038-4da49f160233')\"\n",
              "              title=\"Convert this dataframe to an interactive table.\"\n",
              "              style=\"display:none;\">\n",
              "        \n",
              "  <svg xmlns=\"http://www.w3.org/2000/svg\" height=\"24px\"viewBox=\"0 0 24 24\"\n",
              "       width=\"24px\">\n",
              "    <path d=\"M0 0h24v24H0V0z\" fill=\"none\"/>\n",
              "    <path d=\"M18.56 5.44l.94 2.06.94-2.06 2.06-.94-2.06-.94-.94-2.06-.94 2.06-2.06.94zm-11 1L8.5 8.5l.94-2.06 2.06-.94-2.06-.94L8.5 2.5l-.94 2.06-2.06.94zm10 10l.94 2.06.94-2.06 2.06-.94-2.06-.94-.94-2.06-.94 2.06-2.06.94z\"/><path d=\"M17.41 7.96l-1.37-1.37c-.4-.4-.92-.59-1.43-.59-.52 0-1.04.2-1.43.59L10.3 9.45l-7.72 7.72c-.78.78-.78 2.05 0 2.83L4 21.41c.39.39.9.59 1.41.59.51 0 1.02-.2 1.41-.59l7.78-7.78 2.81-2.81c.8-.78.8-2.07 0-2.86zM5.41 20L4 18.59l7.72-7.72 1.47 1.35L5.41 20z\"/>\n",
              "  </svg>\n",
              "      </button>\n",
              "      \n",
              "  <style>\n",
              "    .colab-df-container {\n",
              "      display:flex;\n",
              "      flex-wrap:wrap;\n",
              "      gap: 12px;\n",
              "    }\n",
              "\n",
              "    .colab-df-convert {\n",
              "      background-color: #E8F0FE;\n",
              "      border: none;\n",
              "      border-radius: 50%;\n",
              "      cursor: pointer;\n",
              "      display: none;\n",
              "      fill: #1967D2;\n",
              "      height: 32px;\n",
              "      padding: 0 0 0 0;\n",
              "      width: 32px;\n",
              "    }\n",
              "\n",
              "    .colab-df-convert:hover {\n",
              "      background-color: #E2EBFA;\n",
              "      box-shadow: 0px 1px 2px rgba(60, 64, 67, 0.3), 0px 1px 3px 1px rgba(60, 64, 67, 0.15);\n",
              "      fill: #174EA6;\n",
              "    }\n",
              "\n",
              "    [theme=dark] .colab-df-convert {\n",
              "      background-color: #3B4455;\n",
              "      fill: #D2E3FC;\n",
              "    }\n",
              "\n",
              "    [theme=dark] .colab-df-convert:hover {\n",
              "      background-color: #434B5C;\n",
              "      box-shadow: 0px 1px 3px 1px rgba(0, 0, 0, 0.15);\n",
              "      filter: drop-shadow(0px 1px 2px rgba(0, 0, 0, 0.3));\n",
              "      fill: #FFFFFF;\n",
              "    }\n",
              "  </style>\n",
              "\n",
              "      <script>\n",
              "        const buttonEl =\n",
              "          document.querySelector('#df-55e0d3fd-797d-47d1-a038-4da49f160233 button.colab-df-convert');\n",
              "        buttonEl.style.display =\n",
              "          google.colab.kernel.accessAllowed ? 'block' : 'none';\n",
              "\n",
              "        async function convertToInteractive(key) {\n",
              "          const element = document.querySelector('#df-55e0d3fd-797d-47d1-a038-4da49f160233');\n",
              "          const dataTable =\n",
              "            await google.colab.kernel.invokeFunction('convertToInteractive',\n",
              "                                                     [key], {});\n",
              "          if (!dataTable) return;\n",
              "\n",
              "          const docLinkHtml = 'Like what you see? Visit the ' +\n",
              "            '<a target=\"_blank\" href=https://colab.research.google.com/notebooks/data_table.ipynb>data table notebook</a>'\n",
              "            + ' to learn more about interactive tables.';\n",
              "          element.innerHTML = '';\n",
              "          dataTable['output_type'] = 'display_data';\n",
              "          await google.colab.output.renderOutput(dataTable, element);\n",
              "          const docLink = document.createElement('div');\n",
              "          docLink.innerHTML = docLinkHtml;\n",
              "          element.appendChild(docLink);\n",
              "        }\n",
              "      </script>\n",
              "    </div>\n",
              "  </div>\n",
              "  "
            ]
          },
          "metadata": {},
          "execution_count": 90
        }
      ]
    },
    {
      "cell_type": "code",
      "source": [
        "a1 = plt.plot('기준_분기_코드', '분기당_매출_금액', data= c1)\n",
        "plt.title('Korean food') #한식\n",
        "plt.show()"
      ],
      "metadata": {
        "id": "yvxK0NmZrRHG",
        "colab": {
          "base_uri": "https://localhost:8080/",
          "height": 281
        },
        "outputId": "0d995e3c-b644-4f98-a9c0-e4abb372363b"
      },
      "execution_count": null,
      "outputs": [
        {
          "output_type": "display_data",
          "data": {
            "text/plain": [
              "<Figure size 432x288 with 1 Axes>"
            ],
            "image/png": "[encoded data removed]"
          },
          "metadata": {
            "needs_background": "light"
          }
        }
      ]
    },
    {
      "cell_type": "markdown",
      "source": [
        "<h1>중식데이터"
      ],
      "metadata": {
        "id": "82fm-BfirBQb"
      }
    },
    {
      "cell_type": "code",
      "source": [
        "c2 = df1.loc [(df1['서비스_업종_코드_명'] == '중식음식점')]\n",
        "a2 = plt.plot('기준_분기_코드', '분기당_매출_금액', data= c2)\n",
        "plt.title('Chinese food') #중식\n",
        "plt.show()"
      ],
      "metadata": {
        "id": "tbNfZ-RqrUhY",
        "colab": {
          "base_uri": "https://localhost:8080/",
          "height": 281
        },
        "outputId": "a29f3812-0c9d-4d58-b531-2defece5e8e2"
      },
      "execution_count": null,
      "outputs": [
        {
          "output_type": "display_data",
          "data": {
            "text/plain": [
              "<Figure size 432x288 with 1 Axes>"
            ],
            "image/png": "[encoded data removed]"
          },
          "metadata": {
            "needs_background": "light"
          }
        }
      ]
    },
    {
      "cell_type": "markdown",
      "source": [
        "<h1>일식데이터"
      ],
      "metadata": {
        "id": "P9DBxVy8rBWc"
      }
    },
    {
      "cell_type": "code",
      "source": [
        "c3 = df1.loc [(df1['서비스_업종_코드_명'] == '일식음식점')]\n",
        "a3 = plt.plot('기준_분기_코드', '분기당_매출_금액', data= c3)\n",
        "plt.title('Japanese food') #일식\n",
        "plt.show()"
      ],
      "metadata": {
        "id": "cLFSER-PrfIv",
        "colab": {
          "base_uri": "https://localhost:8080/",
          "height": 281
        },
        "outputId": "f1e1a8bd-453c-40a7-8f1f-dcb13715036c"
      },
      "execution_count": null,
      "outputs": [
        {
          "output_type": "display_data",
          "data": {
            "text/plain": [
              "<Figure size 432x288 with 1 Axes>"
            ],
            "image/png": "[encoded data removed]"
          },
          "metadata": {
            "needs_background": "light"
          }
        }
      ]
    },
    {
      "cell_type": "markdown",
      "source": [
        "<h1>양식데이터"
      ],
      "metadata": {
        "id": "R4mUt0CCrEv0"
      }
    },
    {
      "cell_type": "code",
      "source": [
        "c4 = df1.loc [(df1['서비스_업종_코드_명'] == '양식음식점')]\n",
        "a4 = plt.plot('기준_분기_코드', '분기당_매출_금액', data= c4)\n",
        "plt.title('Western food') #양식\n",
        "plt.show()"
      ],
      "metadata": {
        "id": "ZkSH_tj1q5FK",
        "colab": {
          "base_uri": "https://localhost:8080/",
          "height": 281
        },
        "outputId": "462e89c5-8b78-4c0c-f910-be169101e39f"
      },
      "execution_count": null,
      "outputs": [
        {
          "output_type": "display_data",
          "data": {
            "text/plain": [
              "<Figure size 432x288 with 1 Axes>"
            ],
            "image/png": "[encoded data removed]"
          },
          "metadata": {
            "needs_background": "light"
          }
        }
      ]
    },
    {
      "cell_type": "markdown",
      "source": [
        "<h1>커피-음료데이터"
      ],
      "metadata": {
        "id": "k4IozEFArpyq"
      }
    },
    {
      "cell_type": "code",
      "source": [
        "c5 = df1.loc [(df1['서비스_업종_코드_명'] == '커피-음료')]\n",
        "a5 = plt.plot('기준_분기_코드', '분기당_매출_금액', data= c5)\n",
        "plt.title('Coffee')\n",
        "plt.show()"
      ],
      "metadata": {
        "id": "9UmhM8ToskZZ",
        "colab": {
          "base_uri": "https://localhost:8080/",
          "height": 281
        },
        "outputId": "5d0a376c-9f5d-4c92-f831-55dd53d9f90e"
      },
      "execution_count": null,
      "outputs": [
        {
          "output_type": "display_data",
          "data": {
            "text/plain": [
              "<Figure size 432x288 with 1 Axes>"
            ],
            "image/png": "[encoded data removed]"
          },
          "metadata": {
            "needs_background": "light"
          }
        }
      ]
    },
    {
      "cell_type": "markdown",
      "source": [
        "<h1>제과점데이터"
      ],
      "metadata": {
        "id": "n4q7Lb2vruyR"
      }
    },
    {
      "cell_type": "code",
      "source": [
        "c6 = df1.loc [(df1['서비스_업종_코드_명'] == '제과점')]\n",
        "a6 = plt.plot('기준_분기_코드', '분기당_매출_금액', data= c6)\n",
        "plt.title('Bread') \n",
        "plt.show()"
      ],
      "metadata": {
        "id": "NATwx4iPsqXl",
        "colab": {
          "base_uri": "https://localhost:8080/",
          "height": 281
        },
        "outputId": "d4f74802-df50-4fb2-851f-d13e8cdfcf6d"
      },
      "execution_count": null,
      "outputs": [
        {
          "output_type": "display_data",
          "data": {
            "text/plain": [
              "<Figure size 432x288 with 1 Axes>"
            ],
            "image/png": "[encoded data removed]"
          },
          "metadata": {
            "needs_background": "light"
          }
        }
      ]
    },
    {
      "cell_type": "markdown",
      "source": [
        "<h1>패스트푸드데이터"
      ],
      "metadata": {
        "id": "5RpqV9jhr0k4"
      }
    },
    {
      "cell_type": "code",
      "source": [
        "c7 = df1.loc [(df1['서비스_업종_코드_명'] == '패스트푸드점')]\n",
        "a7 = plt.plot('기준_분기_코드', '분기당_매출_금액', data= c7)\n",
        "plt.title('fastfood')\n",
        "plt.show()"
      ],
      "metadata": {
        "id": "4k_eTTjLswCc",
        "colab": {
          "base_uri": "https://localhost:8080/",
          "height": 281
        },
        "outputId": "90cab16c-fb95-45d9-fde8-26f27ccf55dd"
      },
      "execution_count": null,
      "outputs": [
        {
          "output_type": "display_data",
          "data": {
            "text/plain": [
              "<Figure size 432x288 with 1 Axes>"
            ],
            "image/png": "[encoded data removed]"
          },
          "metadata": {
            "needs_background": "light"
          }
        }
      ]
    },
    {
      "cell_type": "markdown",
      "source": [
        "<h1>치킨데이터"
      ],
      "metadata": {
        "id": "BNKqwQ_Cr12c"
      }
    },
    {
      "cell_type": "code",
      "source": [
        "c8 = df1.loc [(df1['서비스_업종_코드_명'] == '치킨전문점')]\n",
        "a8 = plt.plot('기준_분기_코드', '분기당_매출_금액', data= c8)\n",
        "plt.title('Chicken')\n",
        "plt.show()"
      ],
      "metadata": {
        "id": "6XvVxAU9swhL",
        "colab": {
          "base_uri": "https://localhost:8080/",
          "height": 281
        },
        "outputId": "36c6917f-f27c-4d7b-86f4-093c9d245fa3"
      },
      "execution_count": null,
      "outputs": [
        {
          "output_type": "display_data",
          "data": {
            "text/plain": [
              "<Figure size 432x288 with 1 Axes>"
            ],
            "image/png": "[encoded data removed]"
          },
          "metadata": {
            "needs_background": "light"
          }
        }
      ]
    },
    {
      "cell_type": "markdown",
      "source": [
        "<h1>분식전문점 데이터"
      ],
      "metadata": {
        "id": "nHqplqvBr37q"
      }
    },
    {
      "cell_type": "code",
      "source": [
        "c9 = df1.loc [(df1['서비스_업종_코드_명'] == '분식전문점')]\n",
        "a9 = plt.plot('기준_분기_코드', '분기당_매출_금액', data= c9)\n",
        "plt.title('Korea School Food')\n",
        "plt.show()"
      ],
      "metadata": {
        "id": "KmoMVW_Csw_Z",
        "colab": {
          "base_uri": "https://localhost:8080/",
          "height": 281
        },
        "outputId": "68e10ec2-47bc-4cd5-9f1d-4c8e9872810a"
      },
      "execution_count": null,
      "outputs": [
        {
          "output_type": "display_data",
          "data": {
            "text/plain": [
              "<Figure size 432x288 with 1 Axes>"
            ],
            "image/png": "[encoded data removed]"
          },
          "metadata": {
            "needs_background": "light"
          }
        }
      ]
    },
    {
      "cell_type": "markdown",
      "source": [
        "<h1>호프전문점 데이터"
      ],
      "metadata": {
        "id": "Z7sueIjNr5wd"
      }
    },
    {
      "cell_type": "code",
      "source": [
        "c10 = df1.loc [(df1['서비스_업종_코드_명'] == '호프-간이주점')]\n",
        "a10 = plt.plot('기준_분기_코드', '분기당_매출_금액', data= c10)\n",
        "plt.title('Pub')\n",
        "plt.show()"
      ],
      "metadata": {
        "id": "JMvDqdlbsF4g",
        "colab": {
          "base_uri": "https://localhost:8080/",
          "height": 281
        },
        "outputId": "ebf76da7-2488-4250-f2a1-afe9ca922f5a"
      },
      "execution_count": null,
      "outputs": [
        {
          "output_type": "display_data",
          "data": {
            "text/plain": [
              "<Figure size 432x288 with 1 Axes>"
            ],
            "image/png": "[encoded data removed]"
          },
          "metadata": {
            "needs_background": "light"
          }
        }
      ]
    },
    {
      "cell_type": "markdown",
      "source": [
        "<h1>통합데이터"
      ],
      "metadata": {
        "id": "0WjZvfzRr8sY"
      }
    },
    {
      "cell_type": "code",
      "source": [
        "plt.rcParams[\"font.family\"] = 'AppleNanumGodic'\n",
        "plt.rcParams[\"figure.figsize\"] = (10,10)\n",
        "\n",
        "a1 = plt.plot('기준_분기_코드', '분기당_매출_금액', data= c1, color='limegreen',label='Korean food' ) # 한식\n",
        "\n",
        "\n",
        "a2 = plt.plot('기준_분기_코드', '분기당_매출_금액', data= c2, color='violet',label ='Chinese food') # 중식\n",
        "\n",
        "\n",
        "a3 = plt.plot('기준_분기_코드', '분기당_매출_금액', data= c3, color='r', label='Japanese food') # 일식\n",
        "\n",
        "\n",
        "a4 = plt.plot('기준_분기_코드', '분기당_매출_금액', data= c4, color='dodgerblue', label='Western food') # 양식\n",
        "\n",
        "\n",
        "a5 = plt.plot('기준_분기_코드', '분기당_매출_금액', data= c5, color='gold', label='Coffee') # 커피\n",
        "\n",
        "\n",
        "a6 = plt.plot('기준_분기_코드', '분기당_매출_금액', data= c6,color='k', label='Bread') # 제과점\n",
        "\n",
        "\n",
        "a7 = plt.plot('기준_분기_코드', '분기당_매출_금액', data= c7, color='darkorange', label='fastfood') # 패스트푸드\n",
        "\n",
        "\n",
        "a8 = plt.plot('기준_분기_코드', '분기당_매출_금액', data= c8, color='darkgoldenrod', label='Chicken') # 치킨\n",
        "\n",
        "\n",
        "a9 = plt.plot('기준_분기_코드', '분기당_매출_금액', data= c9,  color='darkseagreen', label='Korea School Food') # 분식전문점\n",
        "\n",
        "\n",
        "a10 = plt.plot('기준_분기_코드', '분기당_매출_금액', data= c10,  color='navy', label='Pub') # 호프\n",
        "               \n",
        "plt.xlabel('Quater') #분기\n",
        "plt.ylabel('Revenue') #매출\n",
        "plt.legend(loc='upper right')\n",
        "plt.show()"
      ],
      "metadata": {
        "id": "qIwFh998sB5A",
        "colab": {
          "base_uri": "https://localhost:8080/",
          "height": 616
        },
        "outputId": "b4091d57-464c-4b87-863d-9ec4b2f94858"
      },
      "execution_count": null,
      "outputs": [
        {
          "output_type": "display_data",
          "data": {
            "text/plain": [
              "<Figure size 720x720 with 1 Axes>"
            ],
            "image/png": "[encoded data removed]"
          },
          "metadata": {
            "needs_background": "light"
          }
        }
      ]
    }
  ]
}