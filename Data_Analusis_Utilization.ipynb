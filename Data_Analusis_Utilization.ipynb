{
  "nbformat": 4,
  "nbformat_minor": 0,
  "metadata": {
    "colab": {
      "provenance": [],
      "collapsed_sections": []
    },
    "kernelspec": {
      "name": "python3",
      "display_name": "Python 3"
    },
    "language_info": {
      "name": "python"
    }
  },
  "cells": [
    {
      "cell_type": "markdown",
      "source": [
        "<h1>【행정안전부】 2022년 데이터 분석 활용 공모전"
      ],
      "metadata": {
        "id": "pyJtZFHnPDwS"
      }
    },
    {
      "cell_type": "markdown",
      "source": [
        "<h3>서울시 우리마을가게 상권분석을 하기위해 2019년, 2020년, 2021년의 데이터를 분석합니다. "
      ],
      "metadata": {
        "id": "qYRBsue6OwBG"
      }
    },
    {
      "cell_type": "markdown",
      "source": [
        "\n",
        "\n",
        "\n",
        "\n",
        "\n",
        "*  \"서울시 우리마을가게 상권분석서비스(상권-추정매출)\" 데이터 다운로드 링크\n",
        "  - https://data.seoul.go.kr/dataList/OA-15572/S/1/datasetView.do \n",
        "  - 위 링크에서 \"파일내려받기\" $\\rightarrow$ \"서울시_우리마을가게_상권분석서비스(신_상권_추정매출)_2021년.zip\", \"서울시_우리마을가게_상권분석서비스(신_상권_추정매출)_2020년.zip\", \"서울시_우리마을가게_상권분석서비스(신_상권_추정매출)_2019년.zip\"을 다운로드 받습니다.\n"
      ],
      "metadata": {
        "id": "k7fiIzcyUJhr"
      }
    },
    {
      "cell_type": "code",
      "source": [
        "from google.colab import drive\n",
        "drive.mount('/content/drive')"
      ],
      "metadata": {
        "colab": {
          "base_uri": "https://localhost:8080/"
        },
        "id": "f9Qgnq0fPNUa",
        "outputId": "b4a3b77c-b97d-4524-be6f-5ece6b420447"
      },
      "execution_count": 34,
      "outputs": [
        {
          "output_type": "stream",
          "name": "stdout",
          "text": [
            "Drive already mounted at /content/drive; to attempt to forcibly remount, call drive.mount(\"/content/drive\", force_remount=True).\n"
          ]
        }
      ]
    },
    {
      "cell_type": "code",
      "source": [
        "!pip install geopandas"
      ],
      "metadata": {
        "colab": {
          "base_uri": "https://localhost:8080/"
        },
        "id": "jnY0XxZMPWhw",
        "outputId": "026f4477-e39f-494b-eec3-31eca759f8f2"
      },
      "execution_count": 35,
      "outputs": [
        {
          "output_type": "stream",
          "name": "stdout",
          "text": [
            "Looking in indexes: https://pypi.org/simple, https://us-python.pkg.dev/colab-wheels/public/simple/\n",
            "Requirement already satisfied: geopandas in /usr/local/lib/python3.7/dist-packages (0.10.2)\n",
            "Requirement already satisfied: pandas>=0.25.0 in /usr/local/lib/python3.7/dist-packages (from geopandas) (1.3.5)\n",
            "Requirement already satisfied: shapely>=1.6 in /usr/local/lib/python3.7/dist-packages (from geopandas) (1.8.5.post1)\n",
            "Requirement already satisfied: fiona>=1.8 in /usr/local/lib/python3.7/dist-packages (from geopandas) (1.8.22)\n",
            "Requirement already satisfied: pyproj>=2.2.0 in /usr/local/lib/python3.7/dist-packages (from geopandas) (3.2.1)\n",
            "Requirement already satisfied: click-plugins>=1.0 in /usr/local/lib/python3.7/dist-packages (from fiona>=1.8->geopandas) (1.1.1)\n",
            "Requirement already satisfied: setuptools in /usr/local/lib/python3.7/dist-packages (from fiona>=1.8->geopandas) (57.4.0)\n",
            "Requirement already satisfied: munch in /usr/local/lib/python3.7/dist-packages (from fiona>=1.8->geopandas) (2.5.0)\n",
            "Requirement already satisfied: attrs>=17 in /usr/local/lib/python3.7/dist-packages (from fiona>=1.8->geopandas) (22.1.0)\n",
            "Requirement already satisfied: cligj>=0.5 in /usr/local/lib/python3.7/dist-packages (from fiona>=1.8->geopandas) (0.7.2)\n",
            "Requirement already satisfied: certifi in /usr/local/lib/python3.7/dist-packages (from fiona>=1.8->geopandas) (2022.9.24)\n",
            "Requirement already satisfied: six>=1.7 in /usr/local/lib/python3.7/dist-packages (from fiona>=1.8->geopandas) (1.15.0)\n",
            "Requirement already satisfied: click>=4.0 in /usr/local/lib/python3.7/dist-packages (from fiona>=1.8->geopandas) (7.1.2)\n",
            "Requirement already satisfied: python-dateutil>=2.7.3 in /usr/local/lib/python3.7/dist-packages (from pandas>=0.25.0->geopandas) (2.8.2)\n",
            "Requirement already satisfied: numpy>=1.17.3 in /usr/local/lib/python3.7/dist-packages (from pandas>=0.25.0->geopandas) (1.21.6)\n",
            "Requirement already satisfied: pytz>=2017.3 in /usr/local/lib/python3.7/dist-packages (from pandas>=0.25.0->geopandas) (2022.6)\n"
          ]
        }
      ]
    },
    {
      "cell_type": "code",
      "source": [
        "import geopandas as gpd\n",
        "import matplotlib.pyplot as plt\n",
        "import os\n",
        "\n",
        "plt.rcParams[\"font.family\"] = 'NanumGodic'\n",
        "plt.rcParams[\"figure.figsize\"] = (10,10)\n",
        "\n",
        "os.chdir(\"/content/drive/MyDrive/Colab Notebooks/\")\n",
        "addr = \"전국 행정구역/ctp_rvn.shp\"\n",
        "geo_data = gpd.read_file(addr)\n",
        "geo_data.length"
      ],
      "metadata": {
        "colab": {
          "base_uri": "https://localhost:8080/"
        },
        "id": "vaKzKVehPX9t",
        "outputId": "899c6ed3-44e8-4574-8e08-69d92f4f522b"
      },
      "execution_count": 36,
      "outputs": [
        {
          "output_type": "execute_result",
          "data": {
            "text/plain": [
              "0     1.890338e+05\n",
              "1     4.578478e+05\n",
              "2     2.152391e+05\n",
              "3     1.129739e+06\n",
              "4     1.408953e+05\n",
              "5     1.580056e+05\n",
              "6     2.688995e+05\n",
              "7     1.494989e+05\n",
              "8     1.900657e+06\n",
              "9     1.577561e+06\n",
              "10    7.957023e+05\n",
              "11    1.591102e+06\n",
              "12    1.104374e+06\n",
              "13    6.581468e+06\n",
              "14    1.324848e+06\n",
              "15    2.749527e+06\n",
              "16    4.558080e+05\n",
              "dtype: float64"
            ]
          },
          "metadata": {},
          "execution_count": 36
        }
      ]
    },
    {
      "cell_type": "code",
      "source": [
        "geo_data"
      ],
      "metadata": {
        "colab": {
          "base_uri": "https://localhost:8080/",
          "height": 582
        },
        "id": "jkC1kwigPYBF",
        "outputId": "8abd210c-8612-47bc-99d4-d1a9abd60a6c"
      },
      "execution_count": 37,
      "outputs": [
        {
          "output_type": "execute_result",
          "data": {
            "text/plain": [
              "   CTPRVN_CD         CTP_ENG_NM      CTP_KOR_NM  \\\n",
              "0         11              Seoul      ¼­¿ïÆ¯º°½Ã   \n",
              "1         26              Busan      ºÎ»ê±¤¿ª½Ã   \n",
              "2         27              Daegu      ´ë±¸±¤¿ª½Ã   \n",
              "3         28            Incheon      ÀÎÃµ±¤¿ª½Ã   \n",
              "4         29            Gwangju      ±¤ÁÖ±¤¿ª½Ã   \n",
              "5         30            Daejeon      ´ëÀü±¤¿ª½Ã   \n",
              "6         31              Ulsan      ¿ï»ê±¤¿ª½Ã   \n",
              "7         36          Sejong-si  ¼¼Á¾Æ¯º°ÀÚÄ¡½Ã   \n",
              "8         41        Gyeonggi-do          °æ±âµµ   \n",
              "9         42         Gangwon-do          °­¿øµµ   \n",
              "10        43  Chungcheongbuk-do        ÃæÃ»ºÏµµ   \n",
              "11        44  Chungcheongnam-do        ÃæÃ»³²µµ   \n",
              "12        45       Jeollabuk-do        Àü¶óºÏµµ   \n",
              "13        46        Jellanam-do        Àü¶ó³²µµ   \n",
              "14        47   Gyeongsangbuk-do        °æ»óºÏµµ   \n",
              "15        48   Gyeongsangnam-do        °æ»ó³²µµ   \n",
              "16        50            Jeju-do  Á¦ÁÖÆ¯º°ÀÚÄ¡µµ   \n",
              "\n",
              "                                             geometry  \n",
              "0   POLYGON ((966987.226 1941110.946, 966987.119 1...  \n",
              "1   MULTIPOLYGON (((1146778.390 1679623.999, 11469...  \n",
              "2   POLYGON ((1087859.999 1760097.461, 1087859.951...  \n",
              "3   MULTIPOLYGON (((897904.035 1961082.190, 897886...  \n",
              "4   POLYGON ((932712.687 1696168.692, 932781.680 1...  \n",
              "5   POLYGON ((990946.725 1832389.260, 991057.692 1...  \n",
              "6   MULTIPOLYGON (((1167949.952 1710285.043, 11679...  \n",
              "7   POLYGON ((971235.936 1844386.985, 971234.055 1...  \n",
              "8   MULTIPOLYGON (((931607.470 1894480.382, 931653...  \n",
              "9   MULTIPOLYGON (((1163759.191 1909653.101, 11637...  \n",
              "10  POLYGON ((1042689.435 1917662.690, 1042731.339...  \n",
              "11  MULTIPOLYGON (((862386.074 1805282.887, 862296...  \n",
              "12  MULTIPOLYGON (((902676.539 1717491.597, 902679...  \n",
              "13  MULTIPOLYGON (((946598.396 1555245.584, 946595...  \n",
              "14  MULTIPOLYGON (((1179680.743 1750939.312, 11796...  \n",
              "15  MULTIPOLYGON (((1053643.218 1612344.022, 10536...  \n",
              "16  MULTIPOLYGON (((885004.560 1458756.461, 884996...  "
            ],
            "text/html": [
              "\n",
              "  <div id=\"df-2c063c4a-1f67-445d-8d73-6f46da556c44\">\n",
              "    <div class=\"colab-df-container\">\n",
              "      <div>\n",
              "<style scoped>\n",
              "    .dataframe tbody tr th:only-of-type {\n",
              "        vertical-align: middle;\n",
              "    }\n",
              "\n",
              "    .dataframe tbody tr th {\n",
              "        vertical-align: top;\n",
              "    }\n",
              "\n",
              "    .dataframe thead th {\n",
              "        text-align: right;\n",
              "    }\n",
              "</style>\n",
              "<table border=\"1\" class=\"dataframe\">\n",
              "  <thead>\n",
              "    <tr style=\"text-align: right;\">\n",
              "      <th></th>\n",
              "      <th>CTPRVN_CD</th>\n",
              "      <th>CTP_ENG_NM</th>\n",
              "      <th>CTP_KOR_NM</th>\n",
              "      <th>geometry</th>\n",
              "    </tr>\n",
              "  </thead>\n",
              "  <tbody>\n",
              "    <tr>\n",
              "      <th>0</th>\n",
              "      <td>11</td>\n",
              "      <td>Seoul</td>\n",
              "      <td>¼­¿ïÆ¯º°½Ã</td>\n",
              "      <td>POLYGON ((966987.226 1941110.946, 966987.119 1...</td>\n",
              "    </tr>\n",
              "    <tr>\n",
              "      <th>1</th>\n",
              "      <td>26</td>\n",
              "      <td>Busan</td>\n",
              "      <td>ºÎ»ê±¤¿ª½Ã</td>\n",
              "      <td>MULTIPOLYGON (((1146778.390 1679623.999, 11469...</td>\n",
              "    </tr>\n",
              "    <tr>\n",
              "      <th>2</th>\n",
              "      <td>27</td>\n",
              "      <td>Daegu</td>\n",
              "      <td>´ë±¸±¤¿ª½Ã</td>\n",
              "      <td>POLYGON ((1087859.999 1760097.461, 1087859.951...</td>\n",
              "    </tr>\n",
              "    <tr>\n",
              "      <th>3</th>\n",
              "      <td>28</td>\n",
              "      <td>Incheon</td>\n",
              "      <td>ÀÎÃµ±¤¿ª½Ã</td>\n",
              "      <td>MULTIPOLYGON (((897904.035 1961082.190, 897886...</td>\n",
              "    </tr>\n",
              "    <tr>\n",
              "      <th>4</th>\n",
              "      <td>29</td>\n",
              "      <td>Gwangju</td>\n",
              "      <td>±¤ÁÖ±¤¿ª½Ã</td>\n",
              "      <td>POLYGON ((932712.687 1696168.692, 932781.680 1...</td>\n",
              "    </tr>\n",
              "    <tr>\n",
              "      <th>5</th>\n",
              "      <td>30</td>\n",
              "      <td>Daejeon</td>\n",
              "      <td>´ëÀü±¤¿ª½Ã</td>\n",
              "      <td>POLYGON ((990946.725 1832389.260, 991057.692 1...</td>\n",
              "    </tr>\n",
              "    <tr>\n",
              "      <th>6</th>\n",
              "      <td>31</td>\n",
              "      <td>Ulsan</td>\n",
              "      <td>¿ï»ê±¤¿ª½Ã</td>\n",
              "      <td>MULTIPOLYGON (((1167949.952 1710285.043, 11679...</td>\n",
              "    </tr>\n",
              "    <tr>\n",
              "      <th>7</th>\n",
              "      <td>36</td>\n",
              "      <td>Sejong-si</td>\n",
              "      <td>¼¼Á¾Æ¯º°ÀÚÄ¡½Ã</td>\n",
              "      <td>POLYGON ((971235.936 1844386.985, 971234.055 1...</td>\n",
              "    </tr>\n",
              "    <tr>\n",
              "      <th>8</th>\n",
              "      <td>41</td>\n",
              "      <td>Gyeonggi-do</td>\n",
              "      <td>°æ±âµµ</td>\n",
              "      <td>MULTIPOLYGON (((931607.470 1894480.382, 931653...</td>\n",
              "    </tr>\n",
              "    <tr>\n",
              "      <th>9</th>\n",
              "      <td>42</td>\n",
              "      <td>Gangwon-do</td>\n",
              "      <td>°­¿øµµ</td>\n",
              "      <td>MULTIPOLYGON (((1163759.191 1909653.101, 11637...</td>\n",
              "    </tr>\n",
              "    <tr>\n",
              "      <th>10</th>\n",
              "      <td>43</td>\n",
              "      <td>Chungcheongbuk-do</td>\n",
              "      <td>ÃæÃ»ºÏµµ</td>\n",
              "      <td>POLYGON ((1042689.435 1917662.690, 1042731.339...</td>\n",
              "    </tr>\n",
              "    <tr>\n",
              "      <th>11</th>\n",
              "      <td>44</td>\n",
              "      <td>Chungcheongnam-do</td>\n",
              "      <td>ÃæÃ»³²µµ</td>\n",
              "      <td>MULTIPOLYGON (((862386.074 1805282.887, 862296...</td>\n",
              "    </tr>\n",
              "    <tr>\n",
              "      <th>12</th>\n",
              "      <td>45</td>\n",
              "      <td>Jeollabuk-do</td>\n",
              "      <td>Àü¶óºÏµµ</td>\n",
              "      <td>MULTIPOLYGON (((902676.539 1717491.597, 902679...</td>\n",
              "    </tr>\n",
              "    <tr>\n",
              "      <th>13</th>\n",
              "      <td>46</td>\n",
              "      <td>Jellanam-do</td>\n",
              "      <td>Àü¶ó³²µµ</td>\n",
              "      <td>MULTIPOLYGON (((946598.396 1555245.584, 946595...</td>\n",
              "    </tr>\n",
              "    <tr>\n",
              "      <th>14</th>\n",
              "      <td>47</td>\n",
              "      <td>Gyeongsangbuk-do</td>\n",
              "      <td>°æ»óºÏµµ</td>\n",
              "      <td>MULTIPOLYGON (((1179680.743 1750939.312, 11796...</td>\n",
              "    </tr>\n",
              "    <tr>\n",
              "      <th>15</th>\n",
              "      <td>48</td>\n",
              "      <td>Gyeongsangnam-do</td>\n",
              "      <td>°æ»ó³²µµ</td>\n",
              "      <td>MULTIPOLYGON (((1053643.218 1612344.022, 10536...</td>\n",
              "    </tr>\n",
              "    <tr>\n",
              "      <th>16</th>\n",
              "      <td>50</td>\n",
              "      <td>Jeju-do</td>\n",
              "      <td>Á¦ÁÖÆ¯º°ÀÚÄ¡µµ</td>\n",
              "      <td>MULTIPOLYGON (((885004.560 1458756.461, 884996...</td>\n",
              "    </tr>\n",
              "  </tbody>\n",
              "</table>\n",
              "</div>\n",
              "      <button class=\"colab-df-convert\" onclick=\"convertToInteractive('df-2c063c4a-1f67-445d-8d73-6f46da556c44')\"\n",
              "              title=\"Convert this dataframe to an interactive table.\"\n",
              "              style=\"display:none;\">\n",
              "        \n",
              "  <svg xmlns=\"http://www.w3.org/2000/svg\" height=\"24px\"viewBox=\"0 0 24 24\"\n",
              "       width=\"24px\">\n",
              "    <path d=\"M0 0h24v24H0V0z\" fill=\"none\"/>\n",
              "    <path d=\"M18.56 5.44l.94 2.06.94-2.06 2.06-.94-2.06-.94-.94-2.06-.94 2.06-2.06.94zm-11 1L8.5 8.5l.94-2.06 2.06-.94-2.06-.94L8.5 2.5l-.94 2.06-2.06.94zm10 10l.94 2.06.94-2.06 2.06-.94-2.06-.94-.94-2.06-.94 2.06-2.06.94z\"/><path d=\"M17.41 7.96l-1.37-1.37c-.4-.4-.92-.59-1.43-.59-.52 0-1.04.2-1.43.59L10.3 9.45l-7.72 7.72c-.78.78-.78 2.05 0 2.83L4 21.41c.39.39.9.59 1.41.59.51 0 1.02-.2 1.41-.59l7.78-7.78 2.81-2.81c.8-.78.8-2.07 0-2.86zM5.41 20L4 18.59l7.72-7.72 1.47 1.35L5.41 20z\"/>\n",
              "  </svg>\n",
              "      </button>\n",
              "      \n",
              "  <style>\n",
              "    .colab-df-container {\n",
              "      display:flex;\n",
              "      flex-wrap:wrap;\n",
              "      gap: 12px;\n",
              "    }\n",
              "\n",
              "    .colab-df-convert {\n",
              "      background-color: #E8F0FE;\n",
              "      border: none;\n",
              "      border-radius: 50%;\n",
              "      cursor: pointer;\n",
              "      display: none;\n",
              "      fill: #1967D2;\n",
              "      height: 32px;\n",
              "      padding: 0 0 0 0;\n",
              "      width: 32px;\n",
              "    }\n",
              "\n",
              "    .colab-df-convert:hover {\n",
              "      background-color: #E2EBFA;\n",
              "      box-shadow: 0px 1px 2px rgba(60, 64, 67, 0.3), 0px 1px 3px 1px rgba(60, 64, 67, 0.15);\n",
              "      fill: #174EA6;\n",
              "    }\n",
              "\n",
              "    [theme=dark] .colab-df-convert {\n",
              "      background-color: #3B4455;\n",
              "      fill: #D2E3FC;\n",
              "    }\n",
              "\n",
              "    [theme=dark] .colab-df-convert:hover {\n",
              "      background-color: #434B5C;\n",
              "      box-shadow: 0px 1px 3px 1px rgba(0, 0, 0, 0.15);\n",
              "      filter: drop-shadow(0px 1px 2px rgba(0, 0, 0, 0.3));\n",
              "      fill: #FFFFFF;\n",
              "    }\n",
              "  </style>\n",
              "\n",
              "      <script>\n",
              "        const buttonEl =\n",
              "          document.querySelector('#df-2c063c4a-1f67-445d-8d73-6f46da556c44 button.colab-df-convert');\n",
              "        buttonEl.style.display =\n",
              "          google.colab.kernel.accessAllowed ? 'block' : 'none';\n",
              "\n",
              "        async function convertToInteractive(key) {\n",
              "          const element = document.querySelector('#df-2c063c4a-1f67-445d-8d73-6f46da556c44');\n",
              "          const dataTable =\n",
              "            await google.colab.kernel.invokeFunction('convertToInteractive',\n",
              "                                                     [key], {});\n",
              "          if (!dataTable) return;\n",
              "\n",
              "          const docLinkHtml = 'Like what you see? Visit the ' +\n",
              "            '<a target=\"_blank\" href=https://colab.research.google.com/notebooks/data_table.ipynb>data table notebook</a>'\n",
              "            + ' to learn more about interactive tables.';\n",
              "          element.innerHTML = '';\n",
              "          dataTable['output_type'] = 'display_data';\n",
              "          await google.colab.output.renderOutput(dataTable, element);\n",
              "          const docLink = document.createElement('div');\n",
              "          docLink.innerHTML = docLinkHtml;\n",
              "          element.appendChild(docLink);\n",
              "        }\n",
              "      </script>\n",
              "    </div>\n",
              "  </div>\n",
              "  "
            ]
          },
          "metadata": {},
          "execution_count": 37
        }
      ]
    },
    {
      "cell_type": "code",
      "source": [
        "geo_data.head()"
      ],
      "metadata": {
        "colab": {
          "base_uri": "https://localhost:8080/",
          "height": 206
        },
        "id": "xIv-Fyr5XmkF",
        "outputId": "dba30822-ca68-40c1-cfb4-9ecfa2f9dae5"
      },
      "execution_count": 38,
      "outputs": [
        {
          "output_type": "execute_result",
          "data": {
            "text/plain": [
              "  CTPRVN_CD CTP_ENG_NM  CTP_KOR_NM  \\\n",
              "0        11      Seoul  ¼­¿ïÆ¯º°½Ã   \n",
              "1        26      Busan  ºÎ»ê±¤¿ª½Ã   \n",
              "2        27      Daegu  ´ë±¸±¤¿ª½Ã   \n",
              "3        28    Incheon  ÀÎÃµ±¤¿ª½Ã   \n",
              "4        29    Gwangju  ±¤ÁÖ±¤¿ª½Ã   \n",
              "\n",
              "                                            geometry  \n",
              "0  POLYGON ((966987.226 1941110.946, 966987.119 1...  \n",
              "1  MULTIPOLYGON (((1146778.390 1679623.999, 11469...  \n",
              "2  POLYGON ((1087859.999 1760097.461, 1087859.951...  \n",
              "3  MULTIPOLYGON (((897904.035 1961082.190, 897886...  \n",
              "4  POLYGON ((932712.687 1696168.692, 932781.680 1...  "
            ],
            "text/html": [
              "\n",
              "  <div id=\"df-4e069a07-68e1-4b7d-9f16-94c71f2ab6b3\">\n",
              "    <div class=\"colab-df-container\">\n",
              "      <div>\n",
              "<style scoped>\n",
              "    .dataframe tbody tr th:only-of-type {\n",
              "        vertical-align: middle;\n",
              "    }\n",
              "\n",
              "    .dataframe tbody tr th {\n",
              "        vertical-align: top;\n",
              "    }\n",
              "\n",
              "    .dataframe thead th {\n",
              "        text-align: right;\n",
              "    }\n",
              "</style>\n",
              "<table border=\"1\" class=\"dataframe\">\n",
              "  <thead>\n",
              "    <tr style=\"text-align: right;\">\n",
              "      <th></th>\n",
              "      <th>CTPRVN_CD</th>\n",
              "      <th>CTP_ENG_NM</th>\n",
              "      <th>CTP_KOR_NM</th>\n",
              "      <th>geometry</th>\n",
              "    </tr>\n",
              "  </thead>\n",
              "  <tbody>\n",
              "    <tr>\n",
              "      <th>0</th>\n",
              "      <td>11</td>\n",
              "      <td>Seoul</td>\n",
              "      <td>¼­¿ïÆ¯º°½Ã</td>\n",
              "      <td>POLYGON ((966987.226 1941110.946, 966987.119 1...</td>\n",
              "    </tr>\n",
              "    <tr>\n",
              "      <th>1</th>\n",
              "      <td>26</td>\n",
              "      <td>Busan</td>\n",
              "      <td>ºÎ»ê±¤¿ª½Ã</td>\n",
              "      <td>MULTIPOLYGON (((1146778.390 1679623.999, 11469...</td>\n",
              "    </tr>\n",
              "    <tr>\n",
              "      <th>2</th>\n",
              "      <td>27</td>\n",
              "      <td>Daegu</td>\n",
              "      <td>´ë±¸±¤¿ª½Ã</td>\n",
              "      <td>POLYGON ((1087859.999 1760097.461, 1087859.951...</td>\n",
              "    </tr>\n",
              "    <tr>\n",
              "      <th>3</th>\n",
              "      <td>28</td>\n",
              "      <td>Incheon</td>\n",
              "      <td>ÀÎÃµ±¤¿ª½Ã</td>\n",
              "      <td>MULTIPOLYGON (((897904.035 1961082.190, 897886...</td>\n",
              "    </tr>\n",
              "    <tr>\n",
              "      <th>4</th>\n",
              "      <td>29</td>\n",
              "      <td>Gwangju</td>\n",
              "      <td>±¤ÁÖ±¤¿ª½Ã</td>\n",
              "      <td>POLYGON ((932712.687 1696168.692, 932781.680 1...</td>\n",
              "    </tr>\n",
              "  </tbody>\n",
              "</table>\n",
              "</div>\n",
              "      <button class=\"colab-df-convert\" onclick=\"convertToInteractive('df-4e069a07-68e1-4b7d-9f16-94c71f2ab6b3')\"\n",
              "              title=\"Convert this dataframe to an interactive table.\"\n",
              "              style=\"display:none;\">\n",
              "        \n",
              "  <svg xmlns=\"http://www.w3.org/2000/svg\" height=\"24px\"viewBox=\"0 0 24 24\"\n",
              "       width=\"24px\">\n",
              "    <path d=\"M0 0h24v24H0V0z\" fill=\"none\"/>\n",
              "    <path d=\"M18.56 5.44l.94 2.06.94-2.06 2.06-.94-2.06-.94-.94-2.06-.94 2.06-2.06.94zm-11 1L8.5 8.5l.94-2.06 2.06-.94-2.06-.94L8.5 2.5l-.94 2.06-2.06.94zm10 10l.94 2.06.94-2.06 2.06-.94-2.06-.94-.94-2.06-.94 2.06-2.06.94z\"/><path d=\"M17.41 7.96l-1.37-1.37c-.4-.4-.92-.59-1.43-.59-.52 0-1.04.2-1.43.59L10.3 9.45l-7.72 7.72c-.78.78-.78 2.05 0 2.83L4 21.41c.39.39.9.59 1.41.59.51 0 1.02-.2 1.41-.59l7.78-7.78 2.81-2.81c.8-.78.8-2.07 0-2.86zM5.41 20L4 18.59l7.72-7.72 1.47 1.35L5.41 20z\"/>\n",
              "  </svg>\n",
              "      </button>\n",
              "      \n",
              "  <style>\n",
              "    .colab-df-container {\n",
              "      display:flex;\n",
              "      flex-wrap:wrap;\n",
              "      gap: 12px;\n",
              "    }\n",
              "\n",
              "    .colab-df-convert {\n",
              "      background-color: #E8F0FE;\n",
              "      border: none;\n",
              "      border-radius: 50%;\n",
              "      cursor: pointer;\n",
              "      display: none;\n",
              "      fill: #1967D2;\n",
              "      height: 32px;\n",
              "      padding: 0 0 0 0;\n",
              "      width: 32px;\n",
              "    }\n",
              "\n",
              "    .colab-df-convert:hover {\n",
              "      background-color: #E2EBFA;\n",
              "      box-shadow: 0px 1px 2px rgba(60, 64, 67, 0.3), 0px 1px 3px 1px rgba(60, 64, 67, 0.15);\n",
              "      fill: #174EA6;\n",
              "    }\n",
              "\n",
              "    [theme=dark] .colab-df-convert {\n",
              "      background-color: #3B4455;\n",
              "      fill: #D2E3FC;\n",
              "    }\n",
              "\n",
              "    [theme=dark] .colab-df-convert:hover {\n",
              "      background-color: #434B5C;\n",
              "      box-shadow: 0px 1px 3px 1px rgba(0, 0, 0, 0.15);\n",
              "      filter: drop-shadow(0px 1px 2px rgba(0, 0, 0, 0.3));\n",
              "      fill: #FFFFFF;\n",
              "    }\n",
              "  </style>\n",
              "\n",
              "      <script>\n",
              "        const buttonEl =\n",
              "          document.querySelector('#df-4e069a07-68e1-4b7d-9f16-94c71f2ab6b3 button.colab-df-convert');\n",
              "        buttonEl.style.display =\n",
              "          google.colab.kernel.accessAllowed ? 'block' : 'none';\n",
              "\n",
              "        async function convertToInteractive(key) {\n",
              "          const element = document.querySelector('#df-4e069a07-68e1-4b7d-9f16-94c71f2ab6b3');\n",
              "          const dataTable =\n",
              "            await google.colab.kernel.invokeFunction('convertToInteractive',\n",
              "                                                     [key], {});\n",
              "          if (!dataTable) return;\n",
              "\n",
              "          const docLinkHtml = 'Like what you see? Visit the ' +\n",
              "            '<a target=\"_blank\" href=https://colab.research.google.com/notebooks/data_table.ipynb>data table notebook</a>'\n",
              "            + ' to learn more about interactive tables.';\n",
              "          element.innerHTML = '';\n",
              "          dataTable['output_type'] = 'display_data';\n",
              "          await google.colab.output.renderOutput(dataTable, element);\n",
              "          const docLink = document.createElement('div');\n",
              "          docLink.innerHTML = docLinkHtml;\n",
              "          element.appendChild(docLink);\n",
              "        }\n",
              "      </script>\n",
              "    </div>\n",
              "  </div>\n",
              "  "
            ]
          },
          "metadata": {},
          "execution_count": 38
        }
      ]
    },
    {
      "cell_type": "code",
      "source": [
        "plt.rcParams['figure.figsize']=(10,20)"
      ],
      "metadata": {
        "id": "JkOfT65sX9St"
      },
      "execution_count": 39,
      "outputs": []
    },
    {
      "cell_type": "code",
      "source": [
        "geo_data.plot()\n",
        "plt.show()"
      ],
      "metadata": {
        "colab": {
          "base_uri": "https://localhost:8080/",
          "height": 602
        },
        "id": "CDepsqPeX_hR",
        "outputId": "d964de64-52ca-49b0-88c6-342b9e43c1c0"
      },
      "execution_count": 40,
      "outputs": [
        {
          "output_type": "display_data",
          "data": {
            "text/plain": [
              "<Figure size 720x1440 with 1 Axes>"
            ],
            "image/png": "[encoded data removed]"
          },
          "metadata": {
            "needs_background": "light"
          }
        }
      ]
    },
    {
      "cell_type": "code",
      "source": [
        "seo = geo_data[geo_data['CTP_ENG_NM'] == \"Seoul\"]\n",
        "seo"
      ],
      "metadata": {
        "colab": {
          "base_uri": "https://localhost:8080/",
          "height": 81
        },
        "id": "x4o5Zrw0ah0N",
        "outputId": "28184b42-ec1b-40e1-dc30-b250d6a9b105"
      },
      "execution_count": 41,
      "outputs": [
        {
          "output_type": "execute_result",
          "data": {
            "text/plain": [
              "  CTPRVN_CD CTP_ENG_NM  CTP_KOR_NM  \\\n",
              "0        11      Seoul  ¼­¿ïÆ¯º°½Ã   \n",
              "\n",
              "                                            geometry  \n",
              "0  POLYGON ((966987.226 1941110.946, 966987.119 1...  "
            ],
            "text/html": [
              "\n",
              "  <div id=\"df-439f20e4-7f9e-432e-ae41-8df608ca0039\">\n",
              "    <div class=\"colab-df-container\">\n",
              "      <div>\n",
              "<style scoped>\n",
              "    .dataframe tbody tr th:only-of-type {\n",
              "        vertical-align: middle;\n",
              "    }\n",
              "\n",
              "    .dataframe tbody tr th {\n",
              "        vertical-align: top;\n",
              "    }\n",
              "\n",
              "    .dataframe thead th {\n",
              "        text-align: right;\n",
              "    }\n",
              "</style>\n",
              "<table border=\"1\" class=\"dataframe\">\n",
              "  <thead>\n",
              "    <tr style=\"text-align: right;\">\n",
              "      <th></th>\n",
              "      <th>CTPRVN_CD</th>\n",
              "      <th>CTP_ENG_NM</th>\n",
              "      <th>CTP_KOR_NM</th>\n",
              "      <th>geometry</th>\n",
              "    </tr>\n",
              "  </thead>\n",
              "  <tbody>\n",
              "    <tr>\n",
              "      <th>0</th>\n",
              "      <td>11</td>\n",
              "      <td>Seoul</td>\n",
              "      <td>¼­¿ïÆ¯º°½Ã</td>\n",
              "      <td>POLYGON ((966987.226 1941110.946, 966987.119 1...</td>\n",
              "    </tr>\n",
              "  </tbody>\n",
              "</table>\n",
              "</div>\n",
              "      <button class=\"colab-df-convert\" onclick=\"convertToInteractive('df-439f20e4-7f9e-432e-ae41-8df608ca0039')\"\n",
              "              title=\"Convert this dataframe to an interactive table.\"\n",
              "              style=\"display:none;\">\n",
              "        \n",
              "  <svg xmlns=\"http://www.w3.org/2000/svg\" height=\"24px\"viewBox=\"0 0 24 24\"\n",
              "       width=\"24px\">\n",
              "    <path d=\"M0 0h24v24H0V0z\" fill=\"none\"/>\n",
              "    <path d=\"M18.56 5.44l.94 2.06.94-2.06 2.06-.94-2.06-.94-.94-2.06-.94 2.06-2.06.94zm-11 1L8.5 8.5l.94-2.06 2.06-.94-2.06-.94L8.5 2.5l-.94 2.06-2.06.94zm10 10l.94 2.06.94-2.06 2.06-.94-2.06-.94-.94-2.06-.94 2.06-2.06.94z\"/><path d=\"M17.41 7.96l-1.37-1.37c-.4-.4-.92-.59-1.43-.59-.52 0-1.04.2-1.43.59L10.3 9.45l-7.72 7.72c-.78.78-.78 2.05 0 2.83L4 21.41c.39.39.9.59 1.41.59.51 0 1.02-.2 1.41-.59l7.78-7.78 2.81-2.81c.8-.78.8-2.07 0-2.86zM5.41 20L4 18.59l7.72-7.72 1.47 1.35L5.41 20z\"/>\n",
              "  </svg>\n",
              "      </button>\n",
              "      \n",
              "  <style>\n",
              "    .colab-df-container {\n",
              "      display:flex;\n",
              "      flex-wrap:wrap;\n",
              "      gap: 12px;\n",
              "    }\n",
              "\n",
              "    .colab-df-convert {\n",
              "      background-color: #E8F0FE;\n",
              "      border: none;\n",
              "      border-radius: 50%;\n",
              "      cursor: pointer;\n",
              "      display: none;\n",
              "      fill: #1967D2;\n",
              "      height: 32px;\n",
              "      padding: 0 0 0 0;\n",
              "      width: 32px;\n",
              "    }\n",
              "\n",
              "    .colab-df-convert:hover {\n",
              "      background-color: #E2EBFA;\n",
              "      box-shadow: 0px 1px 2px rgba(60, 64, 67, 0.3), 0px 1px 3px 1px rgba(60, 64, 67, 0.15);\n",
              "      fill: #174EA6;\n",
              "    }\n",
              "\n",
              "    [theme=dark] .colab-df-convert {\n",
              "      background-color: #3B4455;\n",
              "      fill: #D2E3FC;\n",
              "    }\n",
              "\n",
              "    [theme=dark] .colab-df-convert:hover {\n",
              "      background-color: #434B5C;\n",
              "      box-shadow: 0px 1px 3px 1px rgba(0, 0, 0, 0.15);\n",
              "      filter: drop-shadow(0px 1px 2px rgba(0, 0, 0, 0.3));\n",
              "      fill: #FFFFFF;\n",
              "    }\n",
              "  </style>\n",
              "\n",
              "      <script>\n",
              "        const buttonEl =\n",
              "          document.querySelector('#df-439f20e4-7f9e-432e-ae41-8df608ca0039 button.colab-df-convert');\n",
              "        buttonEl.style.display =\n",
              "          google.colab.kernel.accessAllowed ? 'block' : 'none';\n",
              "\n",
              "        async function convertToInteractive(key) {\n",
              "          const element = document.querySelector('#df-439f20e4-7f9e-432e-ae41-8df608ca0039');\n",
              "          const dataTable =\n",
              "            await google.colab.kernel.invokeFunction('convertToInteractive',\n",
              "                                                     [key], {});\n",
              "          if (!dataTable) return;\n",
              "\n",
              "          const docLinkHtml = 'Like what you see? Visit the ' +\n",
              "            '<a target=\"_blank\" href=https://colab.research.google.com/notebooks/data_table.ipynb>data table notebook</a>'\n",
              "            + ' to learn more about interactive tables.';\n",
              "          element.innerHTML = '';\n",
              "          dataTable['output_type'] = 'display_data';\n",
              "          await google.colab.output.renderOutput(dataTable, element);\n",
              "          const docLink = document.createElement('div');\n",
              "          docLink.innerHTML = docLinkHtml;\n",
              "          element.appendChild(docLink);\n",
              "        }\n",
              "      </script>\n",
              "    </div>\n",
              "  </div>\n",
              "  "
            ]
          },
          "metadata": {},
          "execution_count": 41
        }
      ]
    },
    {
      "cell_type": "code",
      "source": [
        "seo.plot()"
      ],
      "metadata": {
        "colab": {
          "base_uri": "https://localhost:8080/",
          "height": 534
        },
        "id": "xnXK7hHAZqX7",
        "outputId": "7ff44228-067d-480e-9c2a-b60d7aedfee7"
      },
      "execution_count": 42,
      "outputs": [
        {
          "output_type": "execute_result",
          "data": {
            "text/plain": [
              "<matplotlib.axes._subplots.AxesSubplot at 0x7f870167e8d0>"
            ]
          },
          "metadata": {},
          "execution_count": 42
        },
        {
          "output_type": "display_data",
          "data": {
            "text/plain": [
              "<Figure size 720x1440 with 1 Axes>"
            ],
            "image/png": "[encoded data removed]"
          },
          "metadata": {
            "needs_background": "light"
          }
        }
      ]
    }
  ]
}